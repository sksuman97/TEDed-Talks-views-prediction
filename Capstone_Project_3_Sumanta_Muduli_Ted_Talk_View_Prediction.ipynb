{
  "nbformat": 4,
  "nbformat_minor": 0,
  "metadata": {
    "colab": {
      "name": "Capstone Project-3-Sumanta Muduli -Ted Talk View Prediction.ipynb",
      "provenance": [],
      "mount_file_id": "1vdEyBF_6SD-B4Zk1ULppH96z174UUnrg",
      "authorship_tag": "ABX9TyMrF6xwi/R0qoXyBmNh5bUU",
      "include_colab_link": true
    },
    "kernelspec": {
      "name": "python3",
      "display_name": "Python 3"
    },
    "language_info": {
      "name": "python"
    }
  },
  "cells": [
    {
      "cell_type": "markdown",
      "metadata": {
        "id": "view-in-github",
        "colab_type": "text"
      },
      "source": [
        "<a href=\"https://colab.research.google.com/github/sksuman97/TEDed-Talks-views-prediction/blob/main/Capstone_Project_3_Sumanta_Muduli_Ted_Talk_View_Prediction.ipynb\" target=\"_parent\"><img src=\"https://colab.research.google.com/assets/colab-badge.svg\" alt=\"Open In Colab\"/></a>"
      ]
    },
    {
      "cell_type": "markdown",
      "metadata": {
        "id": "DEIdYHS2UB0o"
      },
      "source": [
        "## Importing Liabraries"
      ]
    },
    {
      "cell_type": "code",
      "metadata": {
        "id": "ysXm-HJRzS6v"
      },
      "source": [
        "# Importing numpy and pandas\n",
        "import pandas as pd\n",
        "import numpy as np\n",
        "\n",
        "# Importinng matplotlib and seaborn \n",
        "import matplotlib.pyplot as plt\n",
        "import seaborn as sns\n",
        "\n",
        "# Importing train_test_split and grid search cv\n",
        "from sklearn.model_selection import train_test_split\n",
        "from sklearn.model_selection import GridSearchCV\n",
        "\n",
        "\n",
        "# Importing Various regressor algorithms from sklearn\n",
        "from sklearn.linear_model import LinearRegression\n",
        "from sklearn.svm import SVR\n",
        "from sklearn.neighbors import KNeighborsRegressor\n",
        "from sklearn.ensemble import RandomForestRegressor\n",
        "# Importing XGBRegessor from xgboost liabrary\n",
        "from xgboost import XGBRegressor\n",
        "\n",
        "# Importing evaluation metrics\n",
        "from sklearn.metrics import mean_squared_error, r2_score,mean_absolute_error\n",
        "\n",
        "\n",
        "# Importing warnings liabrary to remove warnings\n",
        "import warnings\n",
        "warnings.filterwarnings('ignore')"
      ],
      "execution_count": null,
      "outputs": []
    },
    {
      "cell_type": "markdown",
      "metadata": {
        "id": "2pA9kOp45XDm"
      },
      "source": [
        "## Loading data"
      ]
    },
    {
      "cell_type": "code",
      "metadata": {
        "id": "f_sYL_Jc29ID"
      },
      "source": [
        "df=pd.read_csv(\"/content/drive/MyDrive/Capstone Projects/Ted Talk Views Prediction/Data/data_ted_talks.csv\")"
      ],
      "execution_count": null,
      "outputs": []
    },
    {
      "cell_type": "markdown",
      "metadata": {
        "id": "xNQoSxOURHKl"
      },
      "source": [
        "# Exploratory Data Analysis"
      ]
    },
    {
      "cell_type": "markdown",
      "metadata": {
        "id": "fBrZZ6lpZxgM"
      },
      "source": [
        "Checking for duplicate rows in dataset"
      ]
    },
    {
      "cell_type": "code",
      "metadata": {
        "colab": {
          "base_uri": "https://localhost:8080/"
        },
        "id": "nlbRBxE5YpSr",
        "outputId": "f02ec385-f3d7-4f4d-fcdf-a060da7181d9"
      },
      "source": [
        "df.duplicated(['talk_id']).sum()"
      ],
      "execution_count": null,
      "outputs": [
        {
          "output_type": "execute_result",
          "data": {
            "text/plain": [
              "0"
            ]
          },
          "metadata": {
            "tags": []
          },
          "execution_count": 24
        }
      ]
    },
    {
      "cell_type": "markdown",
      "metadata": {
        "id": "kTyb1MX0Z27i"
      },
      "source": [
        "No duplicates found"
      ]
    },
    {
      "cell_type": "markdown",
      "metadata": {
        "id": "WkM9n65ebf-K"
      },
      "source": [
        "Removing 'talk_id' column from df as it's of no use"
      ]
    },
    {
      "cell_type": "code",
      "metadata": {
        "id": "JXKXEn2Pbe4O"
      },
      "source": [
        "del df['talk_id']"
      ],
      "execution_count": null,
      "outputs": []
    },
    {
      "cell_type": "code",
      "metadata": {
        "colab": {
          "base_uri": "https://localhost:8080/"
        },
        "id": "o-aSIz0oROUs",
        "outputId": "00421b7b-184f-4c65-e743-3723596d23c3"
      },
      "source": [
        "df.info()"
      ],
      "execution_count": null,
      "outputs": [
        {
          "output_type": "stream",
          "text": [
            "<class 'pandas.core.frame.DataFrame'>\n",
            "RangeIndex: 4005 entries, 0 to 4004\n",
            "Data columns (total 18 columns):\n",
            " #   Column          Non-Null Count  Dtype  \n",
            "---  ------          --------------  -----  \n",
            " 0   title           4005 non-null   object \n",
            " 1   speaker_1       4005 non-null   object \n",
            " 2   all_speakers    4001 non-null   object \n",
            " 3   occupations     3483 non-null   object \n",
            " 4   about_speakers  3502 non-null   object \n",
            " 5   views           4005 non-null   int64  \n",
            " 6   recorded_date   4004 non-null   object \n",
            " 7   published_date  4005 non-null   object \n",
            " 8   event           4005 non-null   object \n",
            " 9   native_lang     4005 non-null   object \n",
            " 10  available_lang  4005 non-null   object \n",
            " 11  comments        3350 non-null   float64\n",
            " 12  duration        4005 non-null   int64  \n",
            " 13  topics          4005 non-null   object \n",
            " 14  related_talks   4005 non-null   object \n",
            " 15  url             4005 non-null   object \n",
            " 16  description     4005 non-null   object \n",
            " 17  transcript      4005 non-null   object \n",
            "dtypes: float64(1), int64(2), object(15)\n",
            "memory usage: 563.3+ KB\n"
          ],
          "name": "stdout"
        }
      ]
    },
    {
      "cell_type": "markdown",
      "metadata": {
        "id": "CSaJYwMTZ6aK"
      },
      "source": [
        "Most of the columns are of object type"
      ]
    },
    {
      "cell_type": "code",
      "metadata": {
        "colab": {
          "base_uri": "https://localhost:8080/",
          "height": 286
        },
        "id": "zUYv0VO-RRFU",
        "outputId": "7395d3f2-aa21-4fb2-b33b-8b76566b2162"
      },
      "source": [
        "df.describe()"
      ],
      "execution_count": null,
      "outputs": [
        {
          "output_type": "execute_result",
          "data": {
            "text/html": [
              "<div>\n",
              "<style scoped>\n",
              "    .dataframe tbody tr th:only-of-type {\n",
              "        vertical-align: middle;\n",
              "    }\n",
              "\n",
              "    .dataframe tbody tr th {\n",
              "        vertical-align: top;\n",
              "    }\n",
              "\n",
              "    .dataframe thead th {\n",
              "        text-align: right;\n",
              "    }\n",
              "</style>\n",
              "<table border=\"1\" class=\"dataframe\">\n",
              "  <thead>\n",
              "    <tr style=\"text-align: right;\">\n",
              "      <th></th>\n",
              "      <th>views</th>\n",
              "      <th>comments</th>\n",
              "      <th>duration</th>\n",
              "    </tr>\n",
              "  </thead>\n",
              "  <tbody>\n",
              "    <tr>\n",
              "      <th>count</th>\n",
              "      <td>4.005000e+03</td>\n",
              "      <td>3350.000000</td>\n",
              "      <td>4005.000000</td>\n",
              "    </tr>\n",
              "    <tr>\n",
              "      <th>mean</th>\n",
              "      <td>2.148006e+06</td>\n",
              "      <td>161.997015</td>\n",
              "      <td>724.011236</td>\n",
              "    </tr>\n",
              "    <tr>\n",
              "      <th>std</th>\n",
              "      <td>3.451226e+06</td>\n",
              "      <td>268.838922</td>\n",
              "      <td>361.775462</td>\n",
              "    </tr>\n",
              "    <tr>\n",
              "      <th>min</th>\n",
              "      <td>0.000000e+00</td>\n",
              "      <td>0.000000</td>\n",
              "      <td>60.000000</td>\n",
              "    </tr>\n",
              "    <tr>\n",
              "      <th>25%</th>\n",
              "      <td>8.820690e+05</td>\n",
              "      <td>38.000000</td>\n",
              "      <td>393.000000</td>\n",
              "    </tr>\n",
              "    <tr>\n",
              "      <th>50%</th>\n",
              "      <td>1.375508e+06</td>\n",
              "      <td>89.000000</td>\n",
              "      <td>738.000000</td>\n",
              "    </tr>\n",
              "    <tr>\n",
              "      <th>75%</th>\n",
              "      <td>2.133110e+06</td>\n",
              "      <td>188.000000</td>\n",
              "      <td>974.000000</td>\n",
              "    </tr>\n",
              "    <tr>\n",
              "      <th>max</th>\n",
              "      <td>6.505195e+07</td>\n",
              "      <td>6449.000000</td>\n",
              "      <td>3922.000000</td>\n",
              "    </tr>\n",
              "  </tbody>\n",
              "</table>\n",
              "</div>"
            ],
            "text/plain": [
              "              views     comments     duration\n",
              "count  4.005000e+03  3350.000000  4005.000000\n",
              "mean   2.148006e+06   161.997015   724.011236\n",
              "std    3.451226e+06   268.838922   361.775462\n",
              "min    0.000000e+00     0.000000    60.000000\n",
              "25%    8.820690e+05    38.000000   393.000000\n",
              "50%    1.375508e+06    89.000000   738.000000\n",
              "75%    2.133110e+06   188.000000   974.000000\n",
              "max    6.505195e+07  6449.000000  3922.000000"
            ]
          },
          "metadata": {
            "tags": []
          },
          "execution_count": 35
        }
      ]
    },
    {
      "cell_type": "markdown",
      "metadata": {
        "id": "YUpF-26SE2Yd"
      },
      "source": [
        "## Cleaning Data\n",
        "* Handling null values in columns"
      ]
    },
    {
      "cell_type": "code",
      "metadata": {
        "colab": {
          "base_uri": "https://localhost:8080/",
          "height": 334
        },
        "id": "tofx44YEE6an",
        "outputId": "65c1529e-4405-4c29-c82e-15423d339614"
      },
      "source": [
        "#checking the missing data in the dataset\n",
        "sns.heatmap(df.isnull(),yticklabels=False,cbar=False,cmap='viridis')\n",
        "plt.rcParams['figure.figsize'] = (20, 5)"
      ],
      "execution_count": null,
      "outputs": [
        {
          "output_type": "display_data",
          "data": {
            "image/png": "[encoded data removed]",
            "text/plain": [
              "<Figure size 432x288 with 1 Axes>"
            ]
          },
          "metadata": {
            "tags": [],
            "needs_background": "light"
          }
        }
      ]
    },
    {
      "cell_type": "code",
      "metadata": {
        "colab": {
          "base_uri": "https://localhost:8080/",
          "height": 584
        },
        "id": "X_iCcbcyFPEu",
        "outputId": "bd1f49c1-f24a-4f23-983b-f5121bd508f0"
      },
      "source": [
        "# Checking nan values in every column\n",
        "def nan_check(data):\n",
        "  '''creating a function that will show percentage of null values in each column'''\n",
        "  total = data.isnull().sum().sort_values(ascending=False)\n",
        "  percent_1 = data.isnull().sum()/data.isnull().count()*100\n",
        "  percent_2 = (np.round(percent_1, 1)).sort_values(ascending=False)\n",
        "  missing_data = pd.concat([total, percent_2], axis=1, keys=['Total', '%'])\n",
        "  return missing_data\n",
        "\n",
        "nan_check(df)"
      ],
      "execution_count": null,
      "outputs": [
        {
          "output_type": "execute_result",
          "data": {
            "text/html": [
              "<div>\n",
              "<style scoped>\n",
              "    .dataframe tbody tr th:only-of-type {\n",
              "        vertical-align: middle;\n",
              "    }\n",
              "\n",
              "    .dataframe tbody tr th {\n",
              "        vertical-align: top;\n",
              "    }\n",
              "\n",
              "    .dataframe thead th {\n",
              "        text-align: right;\n",
              "    }\n",
              "</style>\n",
              "<table border=\"1\" class=\"dataframe\">\n",
              "  <thead>\n",
              "    <tr style=\"text-align: right;\">\n",
              "      <th></th>\n",
              "      <th>Total</th>\n",
              "      <th>%</th>\n",
              "    </tr>\n",
              "  </thead>\n",
              "  <tbody>\n",
              "    <tr>\n",
              "      <th>comments</th>\n",
              "      <td>655</td>\n",
              "      <td>16.4</td>\n",
              "    </tr>\n",
              "    <tr>\n",
              "      <th>occupations</th>\n",
              "      <td>522</td>\n",
              "      <td>13.0</td>\n",
              "    </tr>\n",
              "    <tr>\n",
              "      <th>about_speakers</th>\n",
              "      <td>503</td>\n",
              "      <td>12.6</td>\n",
              "    </tr>\n",
              "    <tr>\n",
              "      <th>all_speakers</th>\n",
              "      <td>4</td>\n",
              "      <td>0.1</td>\n",
              "    </tr>\n",
              "    <tr>\n",
              "      <th>recorded_date</th>\n",
              "      <td>1</td>\n",
              "      <td>0.0</td>\n",
              "    </tr>\n",
              "    <tr>\n",
              "      <th>transcript</th>\n",
              "      <td>0</td>\n",
              "      <td>0.0</td>\n",
              "    </tr>\n",
              "    <tr>\n",
              "      <th>published_date</th>\n",
              "      <td>0</td>\n",
              "      <td>0.0</td>\n",
              "    </tr>\n",
              "    <tr>\n",
              "      <th>speaker_1</th>\n",
              "      <td>0</td>\n",
              "      <td>0.0</td>\n",
              "    </tr>\n",
              "    <tr>\n",
              "      <th>views</th>\n",
              "      <td>0</td>\n",
              "      <td>0.0</td>\n",
              "    </tr>\n",
              "    <tr>\n",
              "      <th>event</th>\n",
              "      <td>0</td>\n",
              "      <td>0.0</td>\n",
              "    </tr>\n",
              "    <tr>\n",
              "      <th>description</th>\n",
              "      <td>0</td>\n",
              "      <td>0.0</td>\n",
              "    </tr>\n",
              "    <tr>\n",
              "      <th>native_lang</th>\n",
              "      <td>0</td>\n",
              "      <td>0.0</td>\n",
              "    </tr>\n",
              "    <tr>\n",
              "      <th>available_lang</th>\n",
              "      <td>0</td>\n",
              "      <td>0.0</td>\n",
              "    </tr>\n",
              "    <tr>\n",
              "      <th>duration</th>\n",
              "      <td>0</td>\n",
              "      <td>0.0</td>\n",
              "    </tr>\n",
              "    <tr>\n",
              "      <th>topics</th>\n",
              "      <td>0</td>\n",
              "      <td>0.0</td>\n",
              "    </tr>\n",
              "    <tr>\n",
              "      <th>related_talks</th>\n",
              "      <td>0</td>\n",
              "      <td>0.0</td>\n",
              "    </tr>\n",
              "    <tr>\n",
              "      <th>url</th>\n",
              "      <td>0</td>\n",
              "      <td>0.0</td>\n",
              "    </tr>\n",
              "    <tr>\n",
              "      <th>title</th>\n",
              "      <td>0</td>\n",
              "      <td>0.0</td>\n",
              "    </tr>\n",
              "  </tbody>\n",
              "</table>\n",
              "</div>"
            ],
            "text/plain": [
              "                Total     %\n",
              "comments          655  16.4\n",
              "occupations       522  13.0\n",
              "about_speakers    503  12.6\n",
              "all_speakers        4   0.1\n",
              "recorded_date       1   0.0\n",
              "transcript          0   0.0\n",
              "published_date      0   0.0\n",
              "speaker_1           0   0.0\n",
              "views               0   0.0\n",
              "event               0   0.0\n",
              "description         0   0.0\n",
              "native_lang         0   0.0\n",
              "available_lang      0   0.0\n",
              "duration            0   0.0\n",
              "topics              0   0.0\n",
              "related_talks       0   0.0\n",
              "url                 0   0.0\n",
              "title               0   0.0"
            ]
          },
          "metadata": {
            "tags": []
          },
          "execution_count": 84
        }
      ]
    },
    {
      "cell_type": "markdown",
      "metadata": {
        "id": "C54FxH8GM8J3"
      },
      "source": [
        "Dataset have very little nan values, we can drop them directly"
      ]
    },
    {
      "cell_type": "code",
      "metadata": {
        "id": "W0YAVXwFEpLv"
      },
      "source": [
        "# Dropping nan values from columns\n",
        "df.dropna(inplace=True)"
      ],
      "execution_count": null,
      "outputs": []
    },
    {
      "cell_type": "code",
      "metadata": {
        "colab": {
          "base_uri": "https://localhost:8080/"
        },
        "id": "XEM3A4NXThjt",
        "outputId": "50f1bf8c-4823-4bbe-8d48-dc386b5d2201"
      },
      "source": [
        "df.info()"
      ],
      "execution_count": null,
      "outputs": [
        {
          "output_type": "stream",
          "text": [
            "<class 'pandas.core.frame.DataFrame'>\n",
            "Int64Index: 3338 entries, 0 to 4002\n",
            "Data columns (total 18 columns):\n",
            " #   Column          Non-Null Count  Dtype  \n",
            "---  ------          --------------  -----  \n",
            " 0   title           3338 non-null   object \n",
            " 1   speaker_1       3338 non-null   object \n",
            " 2   all_speakers    3338 non-null   object \n",
            " 3   occupations     3338 non-null   object \n",
            " 4   about_speakers  3338 non-null   object \n",
            " 5   views           3338 non-null   int64  \n",
            " 6   recorded_date   3338 non-null   object \n",
            " 7   published_date  3338 non-null   object \n",
            " 8   event           3338 non-null   object \n",
            " 9   native_lang     3338 non-null   object \n",
            " 10  available_lang  3338 non-null   object \n",
            " 11  comments        3338 non-null   float64\n",
            " 12  duration        3338 non-null   int64  \n",
            " 13  topics          3338 non-null   object \n",
            " 14  related_talks   3338 non-null   object \n",
            " 15  url             3338 non-null   object \n",
            " 16  description     3338 non-null   object \n",
            " 17  transcript      3338 non-null   object \n",
            "dtypes: float64(1), int64(2), object(15)\n",
            "memory usage: 495.5+ KB\n"
          ],
          "name": "stdout"
        }
      ]
    },
    {
      "cell_type": "code",
      "metadata": {
        "colab": {
          "base_uri": "https://localhost:8080/",
          "height": 286
        },
        "id": "cZ9Atb1BSak8",
        "outputId": "25d3151c-3cf4-46c3-d544-7450556aa100"
      },
      "source": [
        "df.describe()"
      ],
      "execution_count": null,
      "outputs": [
        {
          "output_type": "execute_result",
          "data": {
            "text/html": [
              "<div>\n",
              "<style scoped>\n",
              "    .dataframe tbody tr th:only-of-type {\n",
              "        vertical-align: middle;\n",
              "    }\n",
              "\n",
              "    .dataframe tbody tr th {\n",
              "        vertical-align: top;\n",
              "    }\n",
              "\n",
              "    .dataframe thead th {\n",
              "        text-align: right;\n",
              "    }\n",
              "</style>\n",
              "<table border=\"1\" class=\"dataframe\">\n",
              "  <thead>\n",
              "    <tr style=\"text-align: right;\">\n",
              "      <th></th>\n",
              "      <th>views</th>\n",
              "      <th>comments</th>\n",
              "      <th>duration</th>\n",
              "    </tr>\n",
              "  </thead>\n",
              "  <tbody>\n",
              "    <tr>\n",
              "      <th>count</th>\n",
              "      <td>3.338000e+03</td>\n",
              "      <td>3338.000000</td>\n",
              "      <td>3338.000000</td>\n",
              "    </tr>\n",
              "    <tr>\n",
              "      <th>mean</th>\n",
              "      <td>2.187772e+06</td>\n",
              "      <td>162.224386</td>\n",
              "      <td>796.964949</td>\n",
              "    </tr>\n",
              "    <tr>\n",
              "      <th>std</th>\n",
              "      <td>3.531615e+06</td>\n",
              "      <td>269.253699</td>\n",
              "      <td>339.247811</td>\n",
              "    </tr>\n",
              "    <tr>\n",
              "      <th>min</th>\n",
              "      <td>1.065450e+05</td>\n",
              "      <td>0.000000</td>\n",
              "      <td>135.000000</td>\n",
              "    </tr>\n",
              "    <tr>\n",
              "      <th>25%</th>\n",
              "      <td>9.620490e+05</td>\n",
              "      <td>38.000000</td>\n",
              "      <td>577.000000</td>\n",
              "    </tr>\n",
              "    <tr>\n",
              "      <th>50%</th>\n",
              "      <td>1.417774e+06</td>\n",
              "      <td>89.000000</td>\n",
              "      <td>801.000000</td>\n",
              "    </tr>\n",
              "    <tr>\n",
              "      <th>75%</th>\n",
              "      <td>2.115465e+06</td>\n",
              "      <td>188.750000</td>\n",
              "      <td>1008.750000</td>\n",
              "    </tr>\n",
              "    <tr>\n",
              "      <th>max</th>\n",
              "      <td>6.505195e+07</td>\n",
              "      <td>6449.000000</td>\n",
              "      <td>3922.000000</td>\n",
              "    </tr>\n",
              "  </tbody>\n",
              "</table>\n",
              "</div>"
            ],
            "text/plain": [
              "              views     comments     duration\n",
              "count  3.338000e+03  3338.000000  3338.000000\n",
              "mean   2.187772e+06   162.224386   796.964949\n",
              "std    3.531615e+06   269.253699   339.247811\n",
              "min    1.065450e+05     0.000000   135.000000\n",
              "25%    9.620490e+05    38.000000   577.000000\n",
              "50%    1.417774e+06    89.000000   801.000000\n",
              "75%    2.115465e+06   188.750000  1008.750000\n",
              "max    6.505195e+07  6449.000000  3922.000000"
            ]
          },
          "metadata": {
            "tags": []
          },
          "execution_count": 92
        }
      ]
    },
    {
      "cell_type": "markdown",
      "metadata": {
        "id": "zhf7E_dTS34U"
      },
      "source": [
        "## Numerical Features"
      ]
    },
    {
      "cell_type": "code",
      "metadata": {
        "colab": {
          "base_uri": "https://localhost:8080/",
          "height": 444
        },
        "id": "H6NmsRmcS2JU",
        "outputId": "7e81e43f-6cc7-4cdc-aeca-85dde89d8687"
      },
      "source": [
        "sns.pairplot(df[['comments', 'duration','views']],  size=2)\n",
        "plt.show()"
      ],
      "execution_count": null,
      "outputs": [
        {
          "output_type": "display_data",
          "data": {
            "image/png": "[encoded data removed]",
            "text/plain": [
              "<Figure size 432x432 with 12 Axes>"
            ]
          },
          "metadata": {
            "tags": [],
            "needs_background": "light"
          }
        }
      ]
    },
    {
      "cell_type": "code",
      "metadata": {
        "colab": {
          "base_uri": "https://localhost:8080/",
          "height": 680
        },
        "id": "h-rkrqIA9Khj",
        "outputId": "7ad7aaa1-1f8f-43da-e577-54ae4d9617d4"
      },
      "source": [
        "fig, axes = plt.subplots(2,2, figsize=(18, 10))\n",
        "\n",
        "fig.suptitle('Boxplots')\n",
        "\n",
        "sns.boxplot(ax=axes[0, 0], data=df, y='views')\n",
        "sns.boxplot(ax=axes[0, 1], data=df,  y='duration')\n",
        "sns.boxplot(ax=axes[1,1], data=df, y='comments')"
      ],
      "execution_count": null,
      "outputs": [
        {
          "output_type": "execute_result",
          "data": {
            "text/plain": [
              "<matplotlib.axes._subplots.AxesSubplot at 0x7f362683d110>"
            ]
          },
          "metadata": {
            "tags": []
          },
          "execution_count": 96
        },
        {
          "output_type": "display_data",
          "data": {
            "image/png": "[encoded data removed]",
            "text/plain": [
              "<Figure size 1296x720 with 4 Axes>"
            ]
          },
          "metadata": {
            "tags": [],
            "needs_background": "light"
          }
        }
      ]
    },
    {
      "cell_type": "markdown",
      "metadata": {
        "id": "ToIzkHe7bDJZ"
      },
      "source": [
        "Many outliers are there"
      ]
    },
    {
      "cell_type": "markdown",
      "metadata": {
        "id": "Xwtntw9cByAu"
      },
      "source": [
        "## Distibution of variables"
      ]
    },
    {
      "cell_type": "code",
      "metadata": {
        "colab": {
          "base_uri": "https://localhost:8080/",
          "height": 361
        },
        "id": "IVvd7zRI2COz",
        "outputId": "d829fcc9-2ba7-4921-de10-1a716fafd1c5"
      },
      "source": [
        "fig, ax = plt.subplots(figsize=(16, 5))\n",
        "sns.distplot(df['views'], ax=ax)"
      ],
      "execution_count": null,
      "outputs": [
        {
          "output_type": "execute_result",
          "data": {
            "text/plain": [
              "<matplotlib.axes._subplots.AxesSubplot at 0x7f36262f2990>"
            ]
          },
          "metadata": {
            "tags": []
          },
          "execution_count": 102
        },
        {
          "output_type": "display_data",
          "data": {
            "image/png": "[encoded data removed]",
            "text/plain": [
              "<Figure size 1152x360 with 1 Axes>"
            ]
          },
          "metadata": {
            "tags": [],
            "needs_background": "light"
          }
        }
      ]
    },
    {
      "cell_type": "markdown",
      "metadata": {
        "id": "Jv1exZbBJywy"
      },
      "source": [
        "Right Skewed "
      ]
    },
    {
      "cell_type": "markdown",
      "metadata": {
        "id": "4dfyA5IqULPu"
      },
      "source": [
        "### Apply log transformation on target variable to bring it into normal distribution shape"
      ]
    },
    {
      "cell_type": "code",
      "metadata": {
        "colab": {
          "base_uri": "https://localhost:8080/",
          "height": 350
        },
        "id": "S0XTJgQ7VU8F",
        "outputId": "8d318575-885b-4f36-97ff-310c614bec17"
      },
      "source": [
        "fig, ax = plt.subplots(figsize=(16, 5))\n",
        "sns.distplot(np.log10(df['views']), ax=ax)"
      ],
      "execution_count": null,
      "outputs": [
        {
          "output_type": "execute_result",
          "data": {
            "text/plain": [
              "<matplotlib.axes._subplots.AxesSubplot at 0x7f36262619d0>"
            ]
          },
          "metadata": {
            "tags": []
          },
          "execution_count": 103
        },
        {
          "output_type": "display_data",
          "data": {
            "image/png": "[encoded data removed]",
            "text/plain": [
              "<Figure size 1152x360 with 1 Axes>"
            ]
          },
          "metadata": {
            "tags": [],
            "needs_background": "light"
          }
        }
      ]
    },
    {
      "cell_type": "code",
      "metadata": {
        "colab": {
          "base_uri": "https://localhost:8080/",
          "height": 350
        },
        "id": "PhoSO0JAVjPW",
        "outputId": "ab292b64-a643-490a-ce70-223dd8175651"
      },
      "source": [
        "sns.boxplot(np.log(df['views']))"
      ],
      "execution_count": null,
      "outputs": [
        {
          "output_type": "execute_result",
          "data": {
            "text/plain": [
              "<matplotlib.axes._subplots.AxesSubplot at 0x7f3626107310>"
            ]
          },
          "metadata": {
            "tags": []
          },
          "execution_count": 105
        },
        {
          "output_type": "display_data",
          "data": {
            "image/png": "[encoded data removed]",
            "text/plain": [
              "<Figure size 1440x360 with 1 Axes>"
            ]
          },
          "metadata": {
            "tags": [],
            "needs_background": "light"
          }
        }
      ]
    },
    {
      "cell_type": "markdown",
      "metadata": {
        "id": "RRl2pTrpVaYY"
      },
      "source": [
        "Target variable is now in perfect normal shape"
      ]
    },
    {
      "cell_type": "code",
      "metadata": {
        "colab": {
          "base_uri": "https://localhost:8080/",
          "height": 350
        },
        "id": "1tDOtmQADTXU",
        "outputId": "6bfb7fbb-4178-4ece-b298-b4302f851255"
      },
      "source": [
        "fig, ax = plt.subplots(figsize=(16, 5))\n",
        "sns.distplot(df['comments'],ax=ax)"
      ],
      "execution_count": null,
      "outputs": [
        {
          "output_type": "execute_result",
          "data": {
            "text/plain": [
              "<matplotlib.axes._subplots.AxesSubplot at 0x7f362a2296d0>"
            ]
          },
          "metadata": {
            "tags": []
          },
          "execution_count": 75
        },
        {
          "output_type": "display_data",
          "data": {
            "image/png": "[encoded data removed]",
            "text/plain": [
              "<Figure size 1152x360 with 1 Axes>"
            ]
          },
          "metadata": {
            "tags": [],
            "needs_background": "light"
          }
        }
      ]
    },
    {
      "cell_type": "markdown",
      "metadata": {
        "id": "u-fU8FNsMg44"
      },
      "source": [
        "Right skewed"
      ]
    },
    {
      "cell_type": "code",
      "metadata": {
        "colab": {
          "base_uri": "https://localhost:8080/",
          "height": 350
        },
        "id": "QcfnnIKADbLg",
        "outputId": "addef8da-2a65-47c3-b3dc-7448b8cb9714"
      },
      "source": [
        "fig, ax = plt.subplots(figsize=(16, 5))\n",
        "sns.distplot(df['duration'],ax=ax)"
      ],
      "execution_count": null,
      "outputs": [
        {
          "output_type": "execute_result",
          "data": {
            "text/plain": [
              "<matplotlib.axes._subplots.AxesSubplot at 0x7f3626452810>"
            ]
          },
          "metadata": {
            "tags": []
          },
          "execution_count": 101
        },
        {
          "output_type": "display_data",
          "data": {
            "image/png": "[encoded data removed]",
            "text/plain": [
              "<Figure size 1152x360 with 1 Axes>"
            ]
          },
          "metadata": {
            "tags": [],
            "needs_background": "light"
          }
        }
      ]
    },
    {
      "cell_type": "code",
      "metadata": {
        "id": "uBgHLtPHUpPx"
      },
      "source": [
        ""
      ],
      "execution_count": null,
      "outputs": []
    },
    {
      "cell_type": "markdown",
      "metadata": {
        "id": "Pi7NiXrKbRbh"
      },
      "source": [
        "## Counting number of outliers in a column"
      ]
    },
    {
      "cell_type": "code",
      "metadata": {
        "colab": {
          "base_uri": "https://localhost:8080/"
        },
        "id": "tS9n9NvubCwh",
        "outputId": "df218c98-0b8c-49dd-c271-c0e2c536c3c8"
      },
      "source": [
        "Q1 = df.quantile(0.25)\n",
        "Q3 = df.quantile(0.75)\n",
        "IQR = Q3 - Q1\n",
        "\n",
        "\n",
        "((df < (Q1 - 1.5 * IQR)) | (df > (Q3 + 1.5 * IQR))).sum()"
      ],
      "execution_count": null,
      "outputs": [
        {
          "output_type": "execute_result",
          "data": {
            "text/plain": [
              "about_speakers      0\n",
              "all_speakers        0\n",
              "available_lang      0\n",
              "comments          261\n",
              "description         0\n",
              "duration           35\n",
              "event               0\n",
              "native_lang         0\n",
              "occupations         0\n",
              "published_date      0\n",
              "recorded_date       0\n",
              "related_talks       0\n",
              "speaker_1           0\n",
              "title               0\n",
              "topics              0\n",
              "transcript          0\n",
              "url                 0\n",
              "views             340\n",
              "dtype: int64"
            ]
          },
          "metadata": {
            "tags": []
          },
          "execution_count": 88
        }
      ]
    },
    {
      "cell_type": "markdown",
      "metadata": {
        "id": "fnjf3a58T59s"
      },
      "source": [
        "1. Number of languages\n",
        "2. Inducing bias on the basis of broad spoken of language\n",
        "3. Time taken to publish the video.\n",
        "4. Number of speakers\n",
        "5. Number of Occupations\n",
        "6. How many talks that speaker has given prior to this\n",
        "7. cluster label"
      ]
    },
    {
      "cell_type": "code",
      "metadata": {
        "id": "VX85fQ6W5dHG"
      },
      "source": [
        "df.head()"
      ],
      "execution_count": null,
      "outputs": []
    },
    {
      "cell_type": "markdown",
      "metadata": {
        "id": "hTGDJTAlW6SL"
      },
      "source": [
        "## challenge-1\n",
        "###How to induce impact of speaker columns on prediction"
      ]
    },
    {
      "cell_type": "code",
      "metadata": {
        "colab": {
          "base_uri": "https://localhost:8080/"
        },
        "id": "07CAXWtaWutb",
        "outputId": "50967bca-7045-4165-f554-dea2dd91f62f"
      },
      "source": [
        "df['speaker_1'].value_counts()"
      ],
      "execution_count": null,
      "outputs": [
        {
          "output_type": "execute_result",
          "data": {
            "text/plain": [
              "Alex Gendler        34\n",
              "Iseult Gillespie    19\n",
              "Emma Bryce          12\n",
              "Daniel Finkel       11\n",
              "Alex Rosenthal      10\n",
              "                    ..\n",
              "Trevor Timm          1\n",
              "Sophia Wallace       1\n",
              "Kevin Slavin         1\n",
              "John Koenig          1\n",
              " Teitur              1\n",
              "Name: speaker_1, Length: 3274, dtype: int64"
            ]
          },
          "metadata": {
            "tags": []
          },
          "execution_count": 18
        }
      ]
    },
    {
      "cell_type": "code",
      "metadata": {
        "colab": {
          "base_uri": "https://localhost:8080/",
          "height": 35
        },
        "id": "QRMFUhmsWcHF",
        "outputId": "c429fb68-0367-435e-a899-a623927d9da6"
      },
      "source": [
        "df['occupations'][4]"
      ],
      "execution_count": null,
      "outputs": [
        {
          "output_type": "execute_result",
          "data": {
            "application/vnd.google.colaboratory.intrinsic+json": {
              "type": "string"
            },
            "text/plain": [
              "\"{0: ['author', 'educator']}\""
            ]
          },
          "metadata": {
            "tags": []
          },
          "execution_count": 16
        }
      ]
    },
    {
      "cell_type": "code",
      "metadata": {
        "colab": {
          "base_uri": "https://localhost:8080/",
          "height": 52
        },
        "id": "kpN-5XftTNA8",
        "outputId": "0027504f-d82e-40eb-ea25-3827696c206f"
      },
      "source": [
        "df['about_speakers'][4]"
      ],
      "execution_count": null,
      "outputs": [
        {
          "output_type": "execute_result",
          "data": {
            "application/vnd.google.colaboratory.intrinsic+json": {
              "type": "string"
            },
            "text/plain": [
              "'{0: \"Creativity expert Sir Ken Robinson challenges the way we\\'re educating our children. He champions a radical rethink of our school systems, to cultivate creativity and acknowledge multiple types of intelligence. \"}'"
            ]
          },
          "metadata": {
            "tags": []
          },
          "execution_count": 13
        }
      ]
    },
    {
      "cell_type": "code",
      "metadata": {
        "colab": {
          "base_uri": "https://localhost:8080/",
          "height": 35
        },
        "id": "KY2OOa46TVwk",
        "outputId": "aa235dfc-d63f-4927-c9ea-a48abed3ce8c"
      },
      "source": [
        "df['all_speakers'][10]"
      ],
      "execution_count": null,
      "outputs": [
        {
          "output_type": "execute_result",
          "data": {
            "application/vnd.google.colaboratory.intrinsic+json": {
              "type": "string"
            },
            "text/plain": [
              "\"{0: 'Larry Brilliant'}\""
            ]
          },
          "metadata": {
            "tags": []
          },
          "execution_count": 15
        }
      ]
    },
    {
      "cell_type": "code",
      "metadata": {
        "colab": {
          "base_uri": "https://localhost:8080/",
          "height": 35
        },
        "id": "kD3oGZbA5qY2",
        "outputId": "68278725-d2b2-4855-ad4f-b1422ba71403"
      },
      "source": [
        "df['topics'][4]"
      ],
      "execution_count": null,
      "outputs": [
        {
          "output_type": "execute_result",
          "data": {
            "application/vnd.google.colaboratory.intrinsic+json": {
              "type": "string"
            },
            "text/plain": [
              "\"['children', 'creativity', 'culture', 'dance', 'education', 'parenting', 'teaching']\""
            ]
          },
          "metadata": {
            "tags": []
          },
          "execution_count": 6
        }
      ]
    },
    {
      "cell_type": "code",
      "metadata": {
        "colab": {
          "base_uri": "https://localhost:8080/",
          "height": 52
        },
        "id": "OHcZoq8bQjxW",
        "outputId": "a8b5139d-588c-4f91-9b38-7863a0b1632e"
      },
      "source": [
        "df['related_talks'][4]"
      ],
      "execution_count": null,
      "outputs": [
        {
          "output_type": "execute_result",
          "data": {
            "application/vnd.google.colaboratory.intrinsic+json": {
              "type": "string"
            },
            "text/plain": [
              "'{865: \\'Bring on the learning revolution!\\', 1738: \"How to escape education\\'s death valley\", 2276: \\'How to fix a broken school? Lead fearlessly, love hard\\', 2182: \\'How to run a company with (almost) no rules\\', 2341: \"Why some of us don\\'t have one true calling\", 9048: \\'The search for \"aha!\" moments\\'}'"
            ]
          },
          "metadata": {
            "tags": []
          },
          "execution_count": 7
        }
      ]
    },
    {
      "cell_type": "code",
      "metadata": {
        "colab": {
          "base_uri": "https://localhost:8080/",
          "height": 35
        },
        "id": "2z5JupjJQv6z",
        "outputId": "ece47261-d0b6-4ad4-ca46-2a57c33eff80"
      },
      "source": [
        "df['description'][4]"
      ],
      "execution_count": null,
      "outputs": [
        {
          "output_type": "execute_result",
          "data": {
            "application/vnd.google.colaboratory.intrinsic+json": {
              "type": "string"
            },
            "text/plain": [
              "'Sir Ken Robinson makes an entertaining and profoundly moving case for creating an education system that nurtures (rather than undermines) creativity.'"
            ]
          },
          "metadata": {
            "tags": []
          },
          "execution_count": 8
        }
      ]
    },
    {
      "cell_type": "code",
      "metadata": {
        "colab": {
          "base_uri": "https://localhost:8080/"
        },
        "id": "ogANJVh3Q77O",
        "outputId": "3302bc4d-6d71-4bfe-91e0-3e0e3272df08"
      },
      "source": [
        "len(df['transcript'][4])"
      ],
      "execution_count": null,
      "outputs": [
        {
          "output_type": "execute_result",
          "data": {
            "text/plain": [
              "17558"
            ]
          },
          "metadata": {
            "tags": []
          },
          "execution_count": 41
        }
      ]
    },
    {
      "cell_type": "code",
      "metadata": {
        "id": "lPbmwFbX13bF"
      },
      "source": [
        ""
      ],
      "execution_count": null,
      "outputs": []
    }
  ]
}