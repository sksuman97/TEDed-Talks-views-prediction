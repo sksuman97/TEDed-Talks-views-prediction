{
  "nbformat": 4,
  "nbformat_minor": 0,
  "metadata": {
    "colab": {
      "name": "Capstone Project-3-Sumanta Muduli -Ted Talk View Prediction.ipynb",
      "provenance": [],
      "collapsed_sections": [],
      "mount_file_id": "1vdEyBF_6SD-B4Zk1ULppH96z174UUnrg",
      "authorship_tag": "ABX9TyOsNGor9nUqGr7rxP5p1u4y",
      "include_colab_link": true
    },
    "kernelspec": {
      "name": "python3",
      "display_name": "Python 3"
    },
    "language_info": {
      "name": "python"
    }
  },
  "cells": [
    {
      "cell_type": "markdown",
      "metadata": {
        "id": "view-in-github",
        "colab_type": "text"
      },
      "source": [
        "<a href=\"https://colab.research.google.com/github/sksuman97/TEDed-Talks-views-prediction/blob/main/Capstone_Project_3_Sumanta_Muduli_Ted_Talk_View_Prediction.ipynb\" target=\"_parent\"><img src=\"https://colab.research.google.com/assets/colab-badge.svg\" alt=\"Open In Colab\"/></a>"
      ]
    },
    {
      "cell_type": "markdown",
      "metadata": {
        "id": "E8boE9Gw4mip"
      },
      "source": [
        "###Problem statement-- TED is devoted to spreading powerful ideas on just about any topic. These datasets contain over 4,000 TED talks including transcripts in many languages. Founded in 1984 by Richard Salman as a nonprofit organization that aimed at bringing experts from the fields of Technology, Entertainment, and Design together, TED Conferences have gone on to become the Mecca of ideas from virtually all walks of life. As of 2015, TED and its sister TEDx chapters have published more than 2000 talks for free consumption by the masses and its speaker list boasts of the likes of Al Gore, Jimmy Wales, Shahrukh Khan, and Bill Gates. The main objective is to build a predictive model, which could help in predicting the views of the videos uploaded on the TEDx website."
      ]
    },
    {
      "cell_type": "markdown",
      "metadata": {
        "id": "DEIdYHS2UB0o"
      },
      "source": [
        "## Importing Liabraries"
      ]
    },
    {
      "cell_type": "code",
      "metadata": {
        "id": "ysXm-HJRzS6v"
      },
      "source": [
        "# Importing numpy and pandas\n",
        "import pandas as pd\n",
        "import numpy as np\n",
        "\n",
        "# Importinng matplotlib and seaborn \n",
        "import matplotlib.pyplot as plt\n",
        "import seaborn as sns\n",
        "\n",
        "# I want to view it difference in days and views in a scaled manner\n",
        "\n",
        "from sklearn.preprocessing import MinMaxScaler\n",
        "\n",
        "\n",
        "# Importing train_test_split and grid search cv\n",
        "from sklearn.model_selection import train_test_split\n",
        "from sklearn.model_selection import GridSearchCV\n",
        "\n",
        "\n",
        "# Importing Various regressor algorithms from sklearn\n",
        "from sklearn.linear_model import LinearRegression\n",
        "from sklearn.svm import SVR\n",
        "from sklearn.neighbors import KNeighborsRegressor\n",
        "from sklearn.ensemble import RandomForestRegressor\n",
        "# Importing XGBRegessor from xgboost liabrary\n",
        "from xgboost import XGBRegressor\n",
        "\n",
        "# Importing evaluation metrics\n",
        "from sklearn.metrics import mean_squared_error, r2_score,mean_absolute_error\n",
        "\n",
        "\n",
        "# Importing warnings liabrary to remove warnings\n",
        "import warnings\n",
        "warnings.filterwarnings('ignore')"
      ],
      "execution_count": 1,
      "outputs": []
    },
    {
      "cell_type": "markdown",
      "metadata": {
        "id": "2pA9kOp45XDm"
      },
      "source": [
        "## Loading data"
      ]
    },
    {
      "cell_type": "code",
      "metadata": {
        "id": "f_sYL_Jc29ID"
      },
      "source": [
        "df=pd.read_csv(\"/content/drive/MyDrive/Capstone Projects/Ted Talk Views Prediction/Data/data_ted_talks.csv\")"
      ],
      "execution_count": 2,
      "outputs": []
    },
    {
      "cell_type": "markdown",
      "metadata": {
        "id": "xNQoSxOURHKl"
      },
      "source": [
        "# Exploratory Data Analysis"
      ]
    },
    {
      "cell_type": "markdown",
      "metadata": {
        "id": "fBrZZ6lpZxgM"
      },
      "source": [
        "Checking for duplicate rows in dataset"
      ]
    },
    {
      "cell_type": "code",
      "metadata": {
        "colab": {
          "base_uri": "https://localhost:8080/"
        },
        "id": "nlbRBxE5YpSr",
        "outputId": "f8a66204-9468-4fb5-f65b-6d9f1c18883f"
      },
      "source": [
        "df.duplicated(['talk_id']).sum()"
      ],
      "execution_count": 3,
      "outputs": [
        {
          "output_type": "execute_result",
          "data": {
            "text/plain": [
              "0"
            ]
          },
          "metadata": {
            "tags": []
          },
          "execution_count": 3
        }
      ]
    },
    {
      "cell_type": "markdown",
      "metadata": {
        "id": "kTyb1MX0Z27i"
      },
      "source": [
        "No duplicates found"
      ]
    },
    {
      "cell_type": "markdown",
      "metadata": {
        "id": "WkM9n65ebf-K"
      },
      "source": [
        "Removing 'talk_id' column from df as it's of no use"
      ]
    },
    {
      "cell_type": "code",
      "metadata": {
        "id": "JXKXEn2Pbe4O"
      },
      "source": [
        "del df['talk_id']"
      ],
      "execution_count": 4,
      "outputs": []
    },
    {
      "cell_type": "code",
      "metadata": {
        "colab": {
          "base_uri": "https://localhost:8080/"
        },
        "id": "o-aSIz0oROUs",
        "outputId": "aa86508a-8eec-49e8-a5f1-8c3ca9a9ed9b"
      },
      "source": [
        "df.info()"
      ],
      "execution_count": 5,
      "outputs": [
        {
          "output_type": "stream",
          "text": [
            "<class 'pandas.core.frame.DataFrame'>\n",
            "RangeIndex: 4005 entries, 0 to 4004\n",
            "Data columns (total 18 columns):\n",
            " #   Column          Non-Null Count  Dtype  \n",
            "---  ------          --------------  -----  \n",
            " 0   title           4005 non-null   object \n",
            " 1   speaker_1       4005 non-null   object \n",
            " 2   all_speakers    4001 non-null   object \n",
            " 3   occupations     3483 non-null   object \n",
            " 4   about_speakers  3502 non-null   object \n",
            " 5   views           4005 non-null   int64  \n",
            " 6   recorded_date   4004 non-null   object \n",
            " 7   published_date  4005 non-null   object \n",
            " 8   event           4005 non-null   object \n",
            " 9   native_lang     4005 non-null   object \n",
            " 10  available_lang  4005 non-null   object \n",
            " 11  comments        3350 non-null   float64\n",
            " 12  duration        4005 non-null   int64  \n",
            " 13  topics          4005 non-null   object \n",
            " 14  related_talks   4005 non-null   object \n",
            " 15  url             4005 non-null   object \n",
            " 16  description     4005 non-null   object \n",
            " 17  transcript      4005 non-null   object \n",
            "dtypes: float64(1), int64(2), object(15)\n",
            "memory usage: 563.3+ KB\n"
          ],
          "name": "stdout"
        }
      ]
    },
    {
      "cell_type": "markdown",
      "metadata": {
        "id": "CSaJYwMTZ6aK"
      },
      "source": [
        "Most of the columns are of object type"
      ]
    },
    {
      "cell_type": "code",
      "metadata": {
        "colab": {
          "base_uri": "https://localhost:8080/",
          "height": 286
        },
        "id": "zUYv0VO-RRFU",
        "outputId": "76564b99-33a1-4f43-8a19-a80cc8575e79"
      },
      "source": [
        "df.describe()"
      ],
      "execution_count": 6,
      "outputs": [
        {
          "output_type": "execute_result",
          "data": {
            "text/html": [
              "<div>\n",
              "<style scoped>\n",
              "    .dataframe tbody tr th:only-of-type {\n",
              "        vertical-align: middle;\n",
              "    }\n",
              "\n",
              "    .dataframe tbody tr th {\n",
              "        vertical-align: top;\n",
              "    }\n",
              "\n",
              "    .dataframe thead th {\n",
              "        text-align: right;\n",
              "    }\n",
              "</style>\n",
              "<table border=\"1\" class=\"dataframe\">\n",
              "  <thead>\n",
              "    <tr style=\"text-align: right;\">\n",
              "      <th></th>\n",
              "      <th>views</th>\n",
              "      <th>comments</th>\n",
              "      <th>duration</th>\n",
              "    </tr>\n",
              "  </thead>\n",
              "  <tbody>\n",
              "    <tr>\n",
              "      <th>count</th>\n",
              "      <td>4.005000e+03</td>\n",
              "      <td>3350.000000</td>\n",
              "      <td>4005.000000</td>\n",
              "    </tr>\n",
              "    <tr>\n",
              "      <th>mean</th>\n",
              "      <td>2.148006e+06</td>\n",
              "      <td>161.997015</td>\n",
              "      <td>724.011236</td>\n",
              "    </tr>\n",
              "    <tr>\n",
              "      <th>std</th>\n",
              "      <td>3.451226e+06</td>\n",
              "      <td>268.838922</td>\n",
              "      <td>361.775462</td>\n",
              "    </tr>\n",
              "    <tr>\n",
              "      <th>min</th>\n",
              "      <td>0.000000e+00</td>\n",
              "      <td>0.000000</td>\n",
              "      <td>60.000000</td>\n",
              "    </tr>\n",
              "    <tr>\n",
              "      <th>25%</th>\n",
              "      <td>8.820690e+05</td>\n",
              "      <td>38.000000</td>\n",
              "      <td>393.000000</td>\n",
              "    </tr>\n",
              "    <tr>\n",
              "      <th>50%</th>\n",
              "      <td>1.375508e+06</td>\n",
              "      <td>89.000000</td>\n",
              "      <td>738.000000</td>\n",
              "    </tr>\n",
              "    <tr>\n",
              "      <th>75%</th>\n",
              "      <td>2.133110e+06</td>\n",
              "      <td>188.000000</td>\n",
              "      <td>974.000000</td>\n",
              "    </tr>\n",
              "    <tr>\n",
              "      <th>max</th>\n",
              "      <td>6.505195e+07</td>\n",
              "      <td>6449.000000</td>\n",
              "      <td>3922.000000</td>\n",
              "    </tr>\n",
              "  </tbody>\n",
              "</table>\n",
              "</div>"
            ],
            "text/plain": [
              "              views     comments     duration\n",
              "count  4.005000e+03  3350.000000  4005.000000\n",
              "mean   2.148006e+06   161.997015   724.011236\n",
              "std    3.451226e+06   268.838922   361.775462\n",
              "min    0.000000e+00     0.000000    60.000000\n",
              "25%    8.820690e+05    38.000000   393.000000\n",
              "50%    1.375508e+06    89.000000   738.000000\n",
              "75%    2.133110e+06   188.000000   974.000000\n",
              "max    6.505195e+07  6449.000000  3922.000000"
            ]
          },
          "metadata": {
            "tags": []
          },
          "execution_count": 6
        }
      ]
    },
    {
      "cell_type": "markdown",
      "metadata": {
        "id": "YUpF-26SE2Yd"
      },
      "source": [
        "## Cleaning Data\n",
        "* Handling null values in columns"
      ]
    },
    {
      "cell_type": "code",
      "metadata": {
        "colab": {
          "base_uri": "https://localhost:8080/",
          "height": 334
        },
        "id": "tofx44YEE6an",
        "outputId": "c4fef4a5-488b-4f06-9271-0c0efba17dce"
      },
      "source": [
        "#checking the missing data in the dataset\n",
        "sns.heatmap(df.isnull(),yticklabels=False,cbar=False,cmap='viridis')\n",
        "plt.rcParams['figure.figsize'] = (20, 5)"
      ],
      "execution_count": 7,
      "outputs": [
        {
          "output_type": "display_data",
          "data": {
            "image/png": "[encoded data removed]",
            "text/plain": [
              "<Figure size 432x288 with 1 Axes>"
            ]
          },
          "metadata": {
            "tags": [],
            "needs_background": "light"
          }
        }
      ]
    },
    {
      "cell_type": "code",
      "metadata": {
        "colab": {
          "base_uri": "https://localhost:8080/",
          "height": 584
        },
        "id": "X_iCcbcyFPEu",
        "outputId": "60aa0ba2-abac-4745-f147-640de551ccfd"
      },
      "source": [
        "# Checking nan values in every column\n",
        "def nan_check(data):\n",
        "  '''creating a function that will show percentage of null values in each column'''\n",
        "  total = data.isnull().sum().sort_values(ascending=False)\n",
        "  percent_1 = data.isnull().sum()/data.isnull().count()*100\n",
        "  percent_2 = (np.round(percent_1, 1)).sort_values(ascending=False)\n",
        "  missing_data = pd.concat([total, percent_2], axis=1, keys=['Total', '%'])\n",
        "  return missing_data\n",
        "\n",
        "nan_check(df)"
      ],
      "execution_count": 8,
      "outputs": [
        {
          "output_type": "execute_result",
          "data": {
            "text/html": [
              "<div>\n",
              "<style scoped>\n",
              "    .dataframe tbody tr th:only-of-type {\n",
              "        vertical-align: middle;\n",
              "    }\n",
              "\n",
              "    .dataframe tbody tr th {\n",
              "        vertical-align: top;\n",
              "    }\n",
              "\n",
              "    .dataframe thead th {\n",
              "        text-align: right;\n",
              "    }\n",
              "</style>\n",
              "<table border=\"1\" class=\"dataframe\">\n",
              "  <thead>\n",
              "    <tr style=\"text-align: right;\">\n",
              "      <th></th>\n",
              "      <th>Total</th>\n",
              "      <th>%</th>\n",
              "    </tr>\n",
              "  </thead>\n",
              "  <tbody>\n",
              "    <tr>\n",
              "      <th>comments</th>\n",
              "      <td>655</td>\n",
              "      <td>16.4</td>\n",
              "    </tr>\n",
              "    <tr>\n",
              "      <th>occupations</th>\n",
              "      <td>522</td>\n",
              "      <td>13.0</td>\n",
              "    </tr>\n",
              "    <tr>\n",
              "      <th>about_speakers</th>\n",
              "      <td>503</td>\n",
              "      <td>12.6</td>\n",
              "    </tr>\n",
              "    <tr>\n",
              "      <th>all_speakers</th>\n",
              "      <td>4</td>\n",
              "      <td>0.1</td>\n",
              "    </tr>\n",
              "    <tr>\n",
              "      <th>recorded_date</th>\n",
              "      <td>1</td>\n",
              "      <td>0.0</td>\n",
              "    </tr>\n",
              "    <tr>\n",
              "      <th>transcript</th>\n",
              "      <td>0</td>\n",
              "      <td>0.0</td>\n",
              "    </tr>\n",
              "    <tr>\n",
              "      <th>published_date</th>\n",
              "      <td>0</td>\n",
              "      <td>0.0</td>\n",
              "    </tr>\n",
              "    <tr>\n",
              "      <th>speaker_1</th>\n",
              "      <td>0</td>\n",
              "      <td>0.0</td>\n",
              "    </tr>\n",
              "    <tr>\n",
              "      <th>views</th>\n",
              "      <td>0</td>\n",
              "      <td>0.0</td>\n",
              "    </tr>\n",
              "    <tr>\n",
              "      <th>event</th>\n",
              "      <td>0</td>\n",
              "      <td>0.0</td>\n",
              "    </tr>\n",
              "    <tr>\n",
              "      <th>description</th>\n",
              "      <td>0</td>\n",
              "      <td>0.0</td>\n",
              "    </tr>\n",
              "    <tr>\n",
              "      <th>native_lang</th>\n",
              "      <td>0</td>\n",
              "      <td>0.0</td>\n",
              "    </tr>\n",
              "    <tr>\n",
              "      <th>available_lang</th>\n",
              "      <td>0</td>\n",
              "      <td>0.0</td>\n",
              "    </tr>\n",
              "    <tr>\n",
              "      <th>duration</th>\n",
              "      <td>0</td>\n",
              "      <td>0.0</td>\n",
              "    </tr>\n",
              "    <tr>\n",
              "      <th>topics</th>\n",
              "      <td>0</td>\n",
              "      <td>0.0</td>\n",
              "    </tr>\n",
              "    <tr>\n",
              "      <th>related_talks</th>\n",
              "      <td>0</td>\n",
              "      <td>0.0</td>\n",
              "    </tr>\n",
              "    <tr>\n",
              "      <th>url</th>\n",
              "      <td>0</td>\n",
              "      <td>0.0</td>\n",
              "    </tr>\n",
              "    <tr>\n",
              "      <th>title</th>\n",
              "      <td>0</td>\n",
              "      <td>0.0</td>\n",
              "    </tr>\n",
              "  </tbody>\n",
              "</table>\n",
              "</div>"
            ],
            "text/plain": [
              "                Total     %\n",
              "comments          655  16.4\n",
              "occupations       522  13.0\n",
              "about_speakers    503  12.6\n",
              "all_speakers        4   0.1\n",
              "recorded_date       1   0.0\n",
              "transcript          0   0.0\n",
              "published_date      0   0.0\n",
              "speaker_1           0   0.0\n",
              "views               0   0.0\n",
              "event               0   0.0\n",
              "description         0   0.0\n",
              "native_lang         0   0.0\n",
              "available_lang      0   0.0\n",
              "duration            0   0.0\n",
              "topics              0   0.0\n",
              "related_talks       0   0.0\n",
              "url                 0   0.0\n",
              "title               0   0.0"
            ]
          },
          "metadata": {
            "tags": []
          },
          "execution_count": 8
        }
      ]
    },
    {
      "cell_type": "code",
      "metadata": {
        "colab": {
          "base_uri": "https://localhost:8080/"
        },
        "id": "osUUqNxB4-Ra",
        "outputId": "491ae9e3-0247-406d-aced-d0dc1abe8669"
      },
      "source": [
        "df['views'].max()"
      ],
      "execution_count": 9,
      "outputs": [
        {
          "output_type": "execute_result",
          "data": {
            "text/plain": [
              "65051954"
            ]
          },
          "metadata": {
            "tags": []
          },
          "execution_count": 9
        }
      ]
    },
    {
      "cell_type": "markdown",
      "metadata": {
        "id": "aT7MAoSW5e2L"
      },
      "source": [
        "# Imputing the Nan values :\n",
        "\n",
        "##Numerical-- KNN nan value imputer"
      ]
    },
    {
      "cell_type": "markdown",
      "metadata": {
        "id": "Pn2hH5h4CGky"
      },
      "source": [
        "Datasets may have missing values, and this can cause problems for many machine learning algorithms.\n",
        "\n",
        "As such, it is good practice to identify and replace missing values for each column in your input data prior to modeling your prediction task. This is called missing data imputation, or imputing for short.\n",
        "\n",
        "A popular approach to missing data imputation is to use a model to predict the missing values. This requires a model to be created for each input variable that has missing values. Although any one among a range of different models can be used to predict the missing values, the k-nearest neighbor (KNN) algorithm has proven to be generally effective, often referred to as “nearest neighbor imputation.”"
      ]
    },
    {
      "cell_type": "code",
      "metadata": {
        "id": "KHqjm8-yCJVp"
      },
      "source": [
        "numerical_features= ['duration','comments']"
      ],
      "execution_count": 10,
      "outputs": []
    },
    {
      "cell_type": "code",
      "metadata": {
        "id": "Voa7s-bCCJ9x"
      },
      "source": [
        "#Import libraries\n",
        "from sklearn.impute import KNNImputer\n",
        "\n",
        "# define imputer\n",
        "imputer = KNNImputer()\n",
        "\n",
        "#fitting the model\n",
        "imputer.fit(df[numerical_features])\n",
        "\n",
        "# transform the dataset\n",
        "df[numerical_features] = imputer.transform(df[numerical_features])"
      ],
      "execution_count": 11,
      "outputs": []
    },
    {
      "cell_type": "code",
      "metadata": {
        "colab": {
          "base_uri": "https://localhost:8080/"
        },
        "id": "52IKkU_jCMvT",
        "outputId": "13244cd0-96dd-4c07-c36d-db15d0cabd3c"
      },
      "source": [
        "df.info()"
      ],
      "execution_count": 12,
      "outputs": [
        {
          "output_type": "stream",
          "text": [
            "<class 'pandas.core.frame.DataFrame'>\n",
            "RangeIndex: 4005 entries, 0 to 4004\n",
            "Data columns (total 18 columns):\n",
            " #   Column          Non-Null Count  Dtype  \n",
            "---  ------          --------------  -----  \n",
            " 0   title           4005 non-null   object \n",
            " 1   speaker_1       4005 non-null   object \n",
            " 2   all_speakers    4001 non-null   object \n",
            " 3   occupations     3483 non-null   object \n",
            " 4   about_speakers  3502 non-null   object \n",
            " 5   views           4005 non-null   int64  \n",
            " 6   recorded_date   4004 non-null   object \n",
            " 7   published_date  4005 non-null   object \n",
            " 8   event           4005 non-null   object \n",
            " 9   native_lang     4005 non-null   object \n",
            " 10  available_lang  4005 non-null   object \n",
            " 11  comments        4005 non-null   float64\n",
            " 12  duration        4005 non-null   float64\n",
            " 13  topics          4005 non-null   object \n",
            " 14  related_talks   4005 non-null   object \n",
            " 15  url             4005 non-null   object \n",
            " 16  description     4005 non-null   object \n",
            " 17  transcript      4005 non-null   object \n",
            "dtypes: float64(2), int64(1), object(15)\n",
            "memory usage: 563.3+ KB\n"
          ],
          "name": "stdout"
        }
      ]
    },
    {
      "cell_type": "markdown",
      "metadata": {
        "id": "YMs6mqPvCQAB"
      },
      "source": [
        "All the nan values for numerical features is removed."
      ]
    },
    {
      "cell_type": "markdown",
      "metadata": {
        "id": "49nNFGhTCWRy"
      },
      "source": [
        "## Categorical features-- nan values are labelled as 'Unkwown'"
      ]
    },
    {
      "cell_type": "code",
      "metadata": {
        "id": "i0ag2G7bCZoZ"
      },
      "source": [
        "#categorical features \n",
        "\n",
        "categorical_features= ['title','speaker_1','all_speakers','event','native_lang','available_lang','topics','related_talks','url','description','transcript','occupations','about_speakers']"
      ],
      "execution_count": 13,
      "outputs": []
    },
    {
      "cell_type": "code",
      "metadata": {
        "id": "kp94WWL6CbMa"
      },
      "source": [
        "df[categorical_features]=df[categorical_features].fillna('Unknown')"
      ],
      "execution_count": 14,
      "outputs": []
    },
    {
      "cell_type": "markdown",
      "metadata": {
        "id": "8sTqIEytCp9Z"
      },
      "source": [
        "The Recorded date is having null date but in string format. I would like to replace it with first value."
      ]
    },
    {
      "cell_type": "code",
      "metadata": {
        "colab": {
          "base_uri": "https://localhost:8080/",
          "height": 35
        },
        "id": "KAUL9SW0CtFL",
        "outputId": "db90ae71-95e7-4bb1-c526-f02247a81aeb"
      },
      "source": [
        "#First value\n",
        "\n",
        "df['recorded_date'][0]"
      ],
      "execution_count": 15,
      "outputs": [
        {
          "output_type": "execute_result",
          "data": {
            "application/vnd.google.colaboratory.intrinsic+json": {
              "type": "string"
            },
            "text/plain": [
              "'2006-02-25'"
            ]
          },
          "metadata": {
            "tags": []
          },
          "execution_count": 15
        }
      ]
    },
    {
      "cell_type": "code",
      "metadata": {
        "id": "JqsAMclJCwGD"
      },
      "source": [
        "df['recorded_date']=df['recorded_date'].fillna('2006-02-25')"
      ],
      "execution_count": 16,
      "outputs": []
    },
    {
      "cell_type": "code",
      "metadata": {
        "colab": {
          "base_uri": "https://localhost:8080/"
        },
        "id": "BzV_YLuVCwDa",
        "outputId": "a85a1b83-d7a1-4587-aa56-e66cfa003e7d"
      },
      "source": [
        "df.info()"
      ],
      "execution_count": 17,
      "outputs": [
        {
          "output_type": "stream",
          "text": [
            "<class 'pandas.core.frame.DataFrame'>\n",
            "RangeIndex: 4005 entries, 0 to 4004\n",
            "Data columns (total 18 columns):\n",
            " #   Column          Non-Null Count  Dtype  \n",
            "---  ------          --------------  -----  \n",
            " 0   title           4005 non-null   object \n",
            " 1   speaker_1       4005 non-null   object \n",
            " 2   all_speakers    4005 non-null   object \n",
            " 3   occupations     4005 non-null   object \n",
            " 4   about_speakers  4005 non-null   object \n",
            " 5   views           4005 non-null   int64  \n",
            " 6   recorded_date   4005 non-null   object \n",
            " 7   published_date  4005 non-null   object \n",
            " 8   event           4005 non-null   object \n",
            " 9   native_lang     4005 non-null   object \n",
            " 10  available_lang  4005 non-null   object \n",
            " 11  comments        4005 non-null   float64\n",
            " 12  duration        4005 non-null   float64\n",
            " 13  topics          4005 non-null   object \n",
            " 14  related_talks   4005 non-null   object \n",
            " 15  url             4005 non-null   object \n",
            " 16  description     4005 non-null   object \n",
            " 17  transcript      4005 non-null   object \n",
            "dtypes: float64(2), int64(1), object(15)\n",
            "memory usage: 563.3+ KB\n"
          ],
          "name": "stdout"
        }
      ]
    },
    {
      "cell_type": "markdown",
      "metadata": {
        "id": "ZmAznK-OC2RJ"
      },
      "source": [
        "## I have taken care of all null values."
      ]
    },
    {
      "cell_type": "markdown",
      "metadata": {
        "id": "2DguJ2fCC7_q"
      },
      "source": [
        "#Extensive analysis on each of the features."
      ]
    },
    {
      "cell_type": "markdown",
      "metadata": {
        "id": "khPeKoucDIkz"
      },
      "source": [
        "##I wanna take a look at what are the year,months and days that most of these ted talks have taken place."
      ]
    },
    {
      "cell_type": "markdown",
      "metadata": {
        "id": "tdUJLv9UDPaN"
      },
      "source": [
        "First for the published dates: get the time stamps."
      ]
    },
    {
      "cell_type": "code",
      "metadata": {
        "id": "CTqETuJtCv1y"
      },
      "source": [
        "import time"
      ],
      "execution_count": 18,
      "outputs": []
    },
    {
      "cell_type": "code",
      "metadata": {
        "id": "eTl7zTDyDcT1"
      },
      "source": [
        "import datetime"
      ],
      "execution_count": 19,
      "outputs": []
    },
    {
      "cell_type": "code",
      "metadata": {
        "id": "fLu7FFlzDgpO"
      },
      "source": [
        "df['published_date'] = df['published_date'].apply(lambda x: datetime.datetime.strptime(x,\"%Y-%m-%d\"))"
      ],
      "execution_count": 20,
      "outputs": []
    },
    {
      "cell_type": "code",
      "metadata": {
        "id": "sG186D9gDjRh"
      },
      "source": [
        "df['published_day'] = df['published_date'].apply(lambda x: x.weekday())\n",
        "df['published_month'] = df['published_date'].apply(lambda x: x.month)\n",
        "df['published_year'] = df['published_date'].apply(lambda x: x.year)"
      ],
      "execution_count": 21,
      "outputs": []
    },
    {
      "cell_type": "markdown",
      "metadata": {
        "id": "97PNw9cQDltW"
      },
      "source": [
        "###For the recorded date now:"
      ]
    },
    {
      "cell_type": "code",
      "metadata": {
        "id": "mbIzjSuHDoQC"
      },
      "source": [
        "df['recorded_date'] = df['recorded_date'].apply(lambda x: datetime.datetime.strptime(x,\"%Y-%m-%d\"))"
      ],
      "execution_count": 22,
      "outputs": []
    },
    {
      "cell_type": "code",
      "metadata": {
        "id": "tkQdIyORDrqh"
      },
      "source": [
        "df['recorded_day'] = df['recorded_date'].apply(lambda x: x.weekday())\n",
        "df['recorded_month'] = df['recorded_date'].apply(lambda x: x.month)\n",
        "df['recorded_year'] = df['recorded_date'].apply(lambda x: x.year)"
      ],
      "execution_count": 23,
      "outputs": []
    },
    {
      "cell_type": "markdown",
      "metadata": {
        "id": "lpYcHRVZDxgp"
      },
      "source": [
        "## I also want to keep the number of days it takes between recording and publishing."
      ]
    },
    {
      "cell_type": "code",
      "metadata": {
        "id": "obj786irDuP6"
      },
      "source": [
        "df['diff_record_publish']= df['published_date']- df['recorded_date']"
      ],
      "execution_count": 24,
      "outputs": []
    },
    {
      "cell_type": "code",
      "metadata": {
        "id": "gD4wTg6hD3Zq"
      },
      "source": [
        "df['diff_record_publish'] = pd.to_numeric(df['diff_record_publish'].dt.days, downcast='integer')"
      ],
      "execution_count": 25,
      "outputs": []
    },
    {
      "cell_type": "markdown",
      "metadata": {
        "id": "GLhmGL5ND7q2"
      },
      "source": [
        "## Age of the video:"
      ]
    },
    {
      "cell_type": "code",
      "metadata": {
        "id": "a8ifGBBdD6r2"
      },
      "source": [
        "current_date= datetime.datetime(2021,5,18)"
      ],
      "execution_count": 26,
      "outputs": []
    },
    {
      "cell_type": "code",
      "metadata": {
        "id": "JqAZsC8UEC7L"
      },
      "source": [
        "df['age_of_video']= current_date.year- df['published_year']"
      ],
      "execution_count": 27,
      "outputs": []
    },
    {
      "cell_type": "code",
      "metadata": {
        "colab": {
          "base_uri": "https://localhost:8080/",
          "height": 339
        },
        "id": "uPKXunwdEDo7",
        "outputId": "b6d99e4d-21e7-433e-a119-9a3d7842b5cb"
      },
      "source": [
        "#Plotting the age of most videos\n",
        "\n",
        "df['age_of_video'].value_counts().sort_values(ascending=False).plot(kind='bar', color= 'orange')"
      ],
      "execution_count": 28,
      "outputs": [
        {
          "output_type": "execute_result",
          "data": {
            "text/plain": [
              "<matplotlib.axes._subplots.AxesSubplot at 0x7fad96d37e50>"
            ]
          },
          "metadata": {
            "tags": []
          },
          "execution_count": 28
        },
        {
          "output_type": "display_data",
          "data": {
            "image/png": "[encoded data removed]",
            "text/plain": [
              "<Figure size 1440x360 with 1 Axes>"
            ]
          },
          "metadata": {
            "tags": [],
            "needs_background": "light"
          }
        }
      ]
    },
    {
      "cell_type": "markdown",
      "metadata": {
        "id": "DesFGo9oEIGD"
      },
      "source": [
        "\n",
        "\n",
        "Determining the relationship of age of video with the views:"
      ]
    },
    {
      "cell_type": "code",
      "metadata": {
        "colab": {
          "base_uri": "https://localhost:8080/"
        },
        "id": "-ZkTUzlPEKk9",
        "outputId": "8f06cf4a-8db5-4a2c-fa75-0754140a2952"
      },
      "source": [
        "df.info()"
      ],
      "execution_count": 29,
      "outputs": [
        {
          "output_type": "stream",
          "text": [
            "<class 'pandas.core.frame.DataFrame'>\n",
            "RangeIndex: 4005 entries, 0 to 4004\n",
            "Data columns (total 26 columns):\n",
            " #   Column               Non-Null Count  Dtype         \n",
            "---  ------               --------------  -----         \n",
            " 0   title                4005 non-null   object        \n",
            " 1   speaker_1            4005 non-null   object        \n",
            " 2   all_speakers         4005 non-null   object        \n",
            " 3   occupations          4005 non-null   object        \n",
            " 4   about_speakers       4005 non-null   object        \n",
            " 5   views                4005 non-null   int64         \n",
            " 6   recorded_date        4005 non-null   datetime64[ns]\n",
            " 7   published_date       4005 non-null   datetime64[ns]\n",
            " 8   event                4005 non-null   object        \n",
            " 9   native_lang          4005 non-null   object        \n",
            " 10  available_lang       4005 non-null   object        \n",
            " 11  comments             4005 non-null   float64       \n",
            " 12  duration             4005 non-null   float64       \n",
            " 13  topics               4005 non-null   object        \n",
            " 14  related_talks        4005 non-null   object        \n",
            " 15  url                  4005 non-null   object        \n",
            " 16  description          4005 non-null   object        \n",
            " 17  transcript           4005 non-null   object        \n",
            " 18  published_day        4005 non-null   int64         \n",
            " 19  published_month      4005 non-null   int64         \n",
            " 20  published_year       4005 non-null   int64         \n",
            " 21  recorded_day         4005 non-null   int64         \n",
            " 22  recorded_month       4005 non-null   int64         \n",
            " 23  recorded_year        4005 non-null   int64         \n",
            " 24  diff_record_publish  4005 non-null   int16         \n",
            " 25  age_of_video         4005 non-null   int64         \n",
            "dtypes: datetime64[ns](2), float64(2), int16(1), int64(8), object(13)\n",
            "memory usage: 790.2+ KB\n"
          ],
          "name": "stdout"
        }
      ]
    },
    {
      "cell_type": "code",
      "metadata": {
        "colab": {
          "base_uri": "https://localhost:8080/",
          "height": 361
        },
        "id": "Cg6KVtc3EOgy",
        "outputId": "1e604c2c-627a-4f26-df64-f54b47a0eae3"
      },
      "source": [
        "#plotting these to get a better idea\n",
        "\n",
        "df['diff_record_publish'].value_counts().sort_values(ascending=False).head(10).plot(kind='bar',color='purple')\n",
        "\n",
        "plt.title('Number of days between recording and publishing')"
      ],
      "execution_count": 30,
      "outputs": [
        {
          "output_type": "execute_result",
          "data": {
            "text/plain": [
              "Text(0.5, 1.0, 'Number of days between recording and publishing')"
            ]
          },
          "metadata": {
            "tags": []
          },
          "execution_count": 30
        },
        {
          "output_type": "display_data",
          "data": {
            "image/png": "[encoded data removed]",
            "text/plain": [
              "<Figure size 1440x360 with 1 Axes>"
            ]
          },
          "metadata": {
            "tags": [],
            "needs_background": "light"
          }
        }
      ]
    },
    {
      "cell_type": "markdown",
      "metadata": {
        "id": "0x7NIS_NEbri"
      },
      "source": [
        "# Find the dependence of views on the difference in recorded and published days:"
      ]
    },
    {
      "cell_type": "code",
      "metadata": {
        "id": "KYKOVMAuEdE7"
      },
      "source": [
        "df['diff_record_publish'] = MinMaxScaler().fit_transform(np.array(df['diff_record_publish']).reshape(-1,1))"
      ],
      "execution_count": null,
      "outputs": []
    },
    {
      "cell_type": "code",
      "metadata": {
        "id": "VLmjnDFTEfhq"
      },
      "source": [
        "df['views'] = MinMaxScaler().fit_transform(np.array(df['views']).reshape(-1,1))"
      ],
      "execution_count": 31,
      "outputs": []
    },
    {
      "cell_type": "code",
      "metadata": {
        "colab": {
          "base_uri": "https://localhost:8080/",
          "height": 352
        },
        "id": "hA_F17KeFCIr",
        "outputId": "eb94b298-dc91-4b7a-ddb9-fc5fc714d6dd"
      },
      "source": [
        "sns.scatterplot(x= df['diff_record_publish'], y=df['views'])"
      ],
      "execution_count": 32,
      "outputs": [
        {
          "output_type": "execute_result",
          "data": {
            "text/plain": [
              "<matplotlib.axes._subplots.AxesSubplot at 0x7fad96ca2ed0>"
            ]
          },
          "metadata": {
            "tags": []
          },
          "execution_count": 32
        },
        {
          "output_type": "display_data",
          "data": {
            "image/png": "[encoded data removed]",
            "text/plain": [
              "<Figure size 1440x360 with 1 Axes>"
            ]
          },
          "metadata": {
            "tags": [],
            "needs_background": "light"
          }
        }
      ]
    },
    {
      "cell_type": "code",
      "metadata": {
        "colab": {
          "base_uri": "https://localhost:8080/",
          "height": 357
        },
        "id": "HxMyA2QiFEOV",
        "outputId": "82448bed-accb-4ad9-dbac-e1d7be2bba07"
      },
      "source": [
        "df.head(3)"
      ],
      "execution_count": 33,
      "outputs": [
        {
          "output_type": "execute_result",
          "data": {
            "text/html": [
              "<div>\n",
              "<style scoped>\n",
              "    .dataframe tbody tr th:only-of-type {\n",
              "        vertical-align: middle;\n",
              "    }\n",
              "\n",
              "    .dataframe tbody tr th {\n",
              "        vertical-align: top;\n",
              "    }\n",
              "\n",
              "    .dataframe thead th {\n",
              "        text-align: right;\n",
              "    }\n",
              "</style>\n",
              "<table border=\"1\" class=\"dataframe\">\n",
              "  <thead>\n",
              "    <tr style=\"text-align: right;\">\n",
              "      <th></th>\n",
              "      <th>title</th>\n",
              "      <th>speaker_1</th>\n",
              "      <th>all_speakers</th>\n",
              "      <th>occupations</th>\n",
              "      <th>about_speakers</th>\n",
              "      <th>views</th>\n",
              "      <th>recorded_date</th>\n",
              "      <th>published_date</th>\n",
              "      <th>event</th>\n",
              "      <th>native_lang</th>\n",
              "      <th>available_lang</th>\n",
              "      <th>comments</th>\n",
              "      <th>duration</th>\n",
              "      <th>topics</th>\n",
              "      <th>related_talks</th>\n",
              "      <th>url</th>\n",
              "      <th>description</th>\n",
              "      <th>transcript</th>\n",
              "      <th>published_day</th>\n",
              "      <th>published_month</th>\n",
              "      <th>published_year</th>\n",
              "      <th>recorded_day</th>\n",
              "      <th>recorded_month</th>\n",
              "      <th>recorded_year</th>\n",
              "      <th>diff_record_publish</th>\n",
              "      <th>age_of_video</th>\n",
              "    </tr>\n",
              "  </thead>\n",
              "  <tbody>\n",
              "    <tr>\n",
              "      <th>0</th>\n",
              "      <td>Averting the climate crisis</td>\n",
              "      <td>Al Gore</td>\n",
              "      <td>{0: 'Al Gore'}</td>\n",
              "      <td>{0: ['climate advocate']}</td>\n",
              "      <td>{0: 'Nobel Laureate Al Gore focused the world’...</td>\n",
              "      <td>0.054163</td>\n",
              "      <td>2006-02-25</td>\n",
              "      <td>2006-06-27</td>\n",
              "      <td>TED2006</td>\n",
              "      <td>en</td>\n",
              "      <td>['ar', 'bg', 'cs', 'de', 'el', 'en', 'es', 'fa...</td>\n",
              "      <td>272.0</td>\n",
              "      <td>977.0</td>\n",
              "      <td>['alternative energy', 'cars', 'climate change...</td>\n",
              "      <td>{243: 'New thinking on the climate crisis', 54...</td>\n",
              "      <td>https://www.ted.com/talks/al_gore_averting_the...</td>\n",
              "      <td>With the same humor and humanity he exuded in ...</td>\n",
              "      <td>Thank you so much, Chris. And it's truly a gre...</td>\n",
              "      <td>1</td>\n",
              "      <td>6</td>\n",
              "      <td>2006</td>\n",
              "      <td>5</td>\n",
              "      <td>2</td>\n",
              "      <td>2006</td>\n",
              "      <td>122</td>\n",
              "      <td>15</td>\n",
              "    </tr>\n",
              "    <tr>\n",
              "      <th>1</th>\n",
              "      <td>The best stats you've ever seen</td>\n",
              "      <td>Hans Rosling</td>\n",
              "      <td>{0: 'Hans Rosling'}</td>\n",
              "      <td>{0: ['global health expert; data visionary']}</td>\n",
              "      <td>{0: 'In Hans Rosling’s hands, data sings. Glob...</td>\n",
              "      <td>0.222925</td>\n",
              "      <td>2006-02-22</td>\n",
              "      <td>2006-06-27</td>\n",
              "      <td>TED2006</td>\n",
              "      <td>en</td>\n",
              "      <td>['ar', 'az', 'bg', 'bn', 'bs', 'cs', 'da', 'de...</td>\n",
              "      <td>628.0</td>\n",
              "      <td>1190.0</td>\n",
              "      <td>['Africa', 'Asia', 'Google', 'demo', 'economic...</td>\n",
              "      <td>{2056: \"Own your body's data\", 2296: 'A visual...</td>\n",
              "      <td>https://www.ted.com/talks/hans_rosling_the_bes...</td>\n",
              "      <td>You've never seen data presented like this. Wi...</td>\n",
              "      <td>About 10 years ago, I took on the task to teac...</td>\n",
              "      <td>1</td>\n",
              "      <td>6</td>\n",
              "      <td>2006</td>\n",
              "      <td>2</td>\n",
              "      <td>2</td>\n",
              "      <td>2006</td>\n",
              "      <td>125</td>\n",
              "      <td>15</td>\n",
              "    </tr>\n",
              "    <tr>\n",
              "      <th>2</th>\n",
              "      <td>Simplicity sells</td>\n",
              "      <td>David Pogue</td>\n",
              "      <td>{0: 'David Pogue'}</td>\n",
              "      <td>{0: ['technology columnist']}</td>\n",
              "      <td>{0: 'David Pogue is the personal technology co...</td>\n",
              "      <td>0.029528</td>\n",
              "      <td>2006-02-24</td>\n",
              "      <td>2006-06-27</td>\n",
              "      <td>TED2006</td>\n",
              "      <td>en</td>\n",
              "      <td>['ar', 'bg', 'de', 'el', 'en', 'es', 'fa', 'fr...</td>\n",
              "      <td>124.0</td>\n",
              "      <td>1286.0</td>\n",
              "      <td>['computers', 'entertainment', 'interface desi...</td>\n",
              "      <td>{1725: '10 top time-saving tech tips', 2274: '...</td>\n",
              "      <td>https://www.ted.com/talks/david_pogue_simplici...</td>\n",
              "      <td>New York Times columnist David Pogue takes aim...</td>\n",
              "      <td>(Music: \"The Sound of Silence,\" Simon &amp; Garfun...</td>\n",
              "      <td>1</td>\n",
              "      <td>6</td>\n",
              "      <td>2006</td>\n",
              "      <td>4</td>\n",
              "      <td>2</td>\n",
              "      <td>2006</td>\n",
              "      <td>123</td>\n",
              "      <td>15</td>\n",
              "    </tr>\n",
              "  </tbody>\n",
              "</table>\n",
              "</div>"
            ],
            "text/plain": [
              "                             title  ... age_of_video\n",
              "0      Averting the climate crisis  ...           15\n",
              "1  The best stats you've ever seen  ...           15\n",
              "2                 Simplicity sells  ...           15\n",
              "\n",
              "[3 rows x 26 columns]"
            ]
          },
          "metadata": {
            "tags": []
          },
          "execution_count": 33
        }
      ]
    },
    {
      "cell_type": "markdown",
      "metadata": {
        "id": "pfslQ7bSFHs4"
      },
      "source": [
        "### Also Scaling the other numerical columns:"
      ]
    },
    {
      "cell_type": "code",
      "metadata": {
        "id": "ZG--CgEJFGrU"
      },
      "source": [
        "df['comments'] = MinMaxScaler().fit_transform(np.array(df['comments']).reshape(-1,1))"
      ],
      "execution_count": 34,
      "outputs": []
    },
    {
      "cell_type": "code",
      "metadata": {
        "id": "wAUOAXouFNZi"
      },
      "source": [
        "df['duration']= MinMaxScaler().fit_transform(np.array(df['duration']).reshape(-1,1))"
      ],
      "execution_count": 35,
      "outputs": []
    },
    {
      "cell_type": "code",
      "metadata": {
        "colab": {
          "base_uri": "https://localhost:8080/",
          "height": 357
        },
        "id": "1kkn6EgKFTTj",
        "outputId": "bbae72f2-f0a7-4470-d0bb-09cc958b1e7b"
      },
      "source": [
        "df.head(3)"
      ],
      "execution_count": 36,
      "outputs": [
        {
          "output_type": "execute_result",
          "data": {
            "text/html": [
              "<div>\n",
              "<style scoped>\n",
              "    .dataframe tbody tr th:only-of-type {\n",
              "        vertical-align: middle;\n",
              "    }\n",
              "\n",
              "    .dataframe tbody tr th {\n",
              "        vertical-align: top;\n",
              "    }\n",
              "\n",
              "    .dataframe thead th {\n",
              "        text-align: right;\n",
              "    }\n",
              "</style>\n",
              "<table border=\"1\" class=\"dataframe\">\n",
              "  <thead>\n",
              "    <tr style=\"text-align: right;\">\n",
              "      <th></th>\n",
              "      <th>title</th>\n",
              "      <th>speaker_1</th>\n",
              "      <th>all_speakers</th>\n",
              "      <th>occupations</th>\n",
              "      <th>about_speakers</th>\n",
              "      <th>views</th>\n",
              "      <th>recorded_date</th>\n",
              "      <th>published_date</th>\n",
              "      <th>event</th>\n",
              "      <th>native_lang</th>\n",
              "      <th>available_lang</th>\n",
              "      <th>comments</th>\n",
              "      <th>duration</th>\n",
              "      <th>topics</th>\n",
              "      <th>related_talks</th>\n",
              "      <th>url</th>\n",
              "      <th>description</th>\n",
              "      <th>transcript</th>\n",
              "      <th>published_day</th>\n",
              "      <th>published_month</th>\n",
              "      <th>published_year</th>\n",
              "      <th>recorded_day</th>\n",
              "      <th>recorded_month</th>\n",
              "      <th>recorded_year</th>\n",
              "      <th>diff_record_publish</th>\n",
              "      <th>age_of_video</th>\n",
              "    </tr>\n",
              "  </thead>\n",
              "  <tbody>\n",
              "    <tr>\n",
              "      <th>0</th>\n",
              "      <td>Averting the climate crisis</td>\n",
              "      <td>Al Gore</td>\n",
              "      <td>{0: 'Al Gore'}</td>\n",
              "      <td>{0: ['climate advocate']}</td>\n",
              "      <td>{0: 'Nobel Laureate Al Gore focused the world’...</td>\n",
              "      <td>0.054163</td>\n",
              "      <td>2006-02-25</td>\n",
              "      <td>2006-06-27</td>\n",
              "      <td>TED2006</td>\n",
              "      <td>en</td>\n",
              "      <td>['ar', 'bg', 'cs', 'de', 'el', 'en', 'es', 'fa...</td>\n",
              "      <td>0.042177</td>\n",
              "      <td>0.237442</td>\n",
              "      <td>['alternative energy', 'cars', 'climate change...</td>\n",
              "      <td>{243: 'New thinking on the climate crisis', 54...</td>\n",
              "      <td>https://www.ted.com/talks/al_gore_averting_the...</td>\n",
              "      <td>With the same humor and humanity he exuded in ...</td>\n",
              "      <td>Thank you so much, Chris. And it's truly a gre...</td>\n",
              "      <td>1</td>\n",
              "      <td>6</td>\n",
              "      <td>2006</td>\n",
              "      <td>5</td>\n",
              "      <td>2</td>\n",
              "      <td>2006</td>\n",
              "      <td>122</td>\n",
              "      <td>15</td>\n",
              "    </tr>\n",
              "    <tr>\n",
              "      <th>1</th>\n",
              "      <td>The best stats you've ever seen</td>\n",
              "      <td>Hans Rosling</td>\n",
              "      <td>{0: 'Hans Rosling'}</td>\n",
              "      <td>{0: ['global health expert; data visionary']}</td>\n",
              "      <td>{0: 'In Hans Rosling’s hands, data sings. Glob...</td>\n",
              "      <td>0.222925</td>\n",
              "      <td>2006-02-22</td>\n",
              "      <td>2006-06-27</td>\n",
              "      <td>TED2006</td>\n",
              "      <td>en</td>\n",
              "      <td>['ar', 'az', 'bg', 'bn', 'bs', 'cs', 'da', 'de...</td>\n",
              "      <td>0.097379</td>\n",
              "      <td>0.292595</td>\n",
              "      <td>['Africa', 'Asia', 'Google', 'demo', 'economic...</td>\n",
              "      <td>{2056: \"Own your body's data\", 2296: 'A visual...</td>\n",
              "      <td>https://www.ted.com/talks/hans_rosling_the_bes...</td>\n",
              "      <td>You've never seen data presented like this. Wi...</td>\n",
              "      <td>About 10 years ago, I took on the task to teac...</td>\n",
              "      <td>1</td>\n",
              "      <td>6</td>\n",
              "      <td>2006</td>\n",
              "      <td>2</td>\n",
              "      <td>2</td>\n",
              "      <td>2006</td>\n",
              "      <td>125</td>\n",
              "      <td>15</td>\n",
              "    </tr>\n",
              "    <tr>\n",
              "      <th>2</th>\n",
              "      <td>Simplicity sells</td>\n",
              "      <td>David Pogue</td>\n",
              "      <td>{0: 'David Pogue'}</td>\n",
              "      <td>{0: ['technology columnist']}</td>\n",
              "      <td>{0: 'David Pogue is the personal technology co...</td>\n",
              "      <td>0.029528</td>\n",
              "      <td>2006-02-24</td>\n",
              "      <td>2006-06-27</td>\n",
              "      <td>TED2006</td>\n",
              "      <td>en</td>\n",
              "      <td>['ar', 'bg', 'de', 'el', 'en', 'es', 'fa', 'fr...</td>\n",
              "      <td>0.019228</td>\n",
              "      <td>0.317452</td>\n",
              "      <td>['computers', 'entertainment', 'interface desi...</td>\n",
              "      <td>{1725: '10 top time-saving tech tips', 2274: '...</td>\n",
              "      <td>https://www.ted.com/talks/david_pogue_simplici...</td>\n",
              "      <td>New York Times columnist David Pogue takes aim...</td>\n",
              "      <td>(Music: \"The Sound of Silence,\" Simon &amp; Garfun...</td>\n",
              "      <td>1</td>\n",
              "      <td>6</td>\n",
              "      <td>2006</td>\n",
              "      <td>4</td>\n",
              "      <td>2</td>\n",
              "      <td>2006</td>\n",
              "      <td>123</td>\n",
              "      <td>15</td>\n",
              "    </tr>\n",
              "  </tbody>\n",
              "</table>\n",
              "</div>"
            ],
            "text/plain": [
              "                             title  ... age_of_video\n",
              "0      Averting the climate crisis  ...           15\n",
              "1  The best stats you've ever seen  ...           15\n",
              "2                 Simplicity sells  ...           15\n",
              "\n",
              "[3 rows x 26 columns]"
            ]
          },
          "metadata": {
            "tags": []
          },
          "execution_count": 36
        }
      ]
    },
    {
      "cell_type": "markdown",
      "metadata": {
        "id": "FXP8tZOkFXx_"
      },
      "source": [
        "## The videos are usually published within a span of 3 months"
      ]
    },
    {
      "cell_type": "markdown",
      "metadata": {
        "id": "viPaDWysFcba"
      },
      "source": [
        "## I want to determine the most popular days,months and year of publishing:"
      ]
    },
    {
      "cell_type": "markdown",
      "metadata": {
        "id": "Sy4uQjagFfxy"
      },
      "source": [
        "## Looking for the most popular days for the publishing views."
      ]
    },
    {
      "cell_type": "code",
      "metadata": {
        "id": "Dnzv-2XhFo4i"
      },
      "source": [
        "df['published_day']=df['published_day'].map({0:'Monday',1:'Tuesday',2:'Wednesday',3:'Thursday',4:'Friday',5:'Saturday',6:'Sunday'})"
      ],
      "execution_count": 37,
      "outputs": []
    },
    {
      "cell_type": "code",
      "metadata": {
        "colab": {
          "base_uri": "https://localhost:8080/",
          "height": 401
        },
        "id": "C5qPHrBmFrWL",
        "outputId": "ddfc9cd9-f9c3-4171-e594-731761e4259a"
      },
      "source": [
        "df['published_day'].value_counts().sort_values(ascending=False).plot(kind='bar', color='black')\n",
        "\n",
        "plt.title('Published Days')"
      ],
      "execution_count": 38,
      "outputs": [
        {
          "output_type": "execute_result",
          "data": {
            "text/plain": [
              "Text(0.5, 1.0, 'Published Days')"
            ]
          },
          "metadata": {
            "tags": []
          },
          "execution_count": 38
        },
        {
          "output_type": "display_data",
          "data": {
            "image/png": "[encoded data removed]",
            "text/plain": [
              "<Figure size 1440x360 with 1 Axes>"
            ]
          },
          "metadata": {
            "tags": [],
            "needs_background": "light"
          }
        }
      ]
    },
    {
      "cell_type": "markdown",
      "metadata": {
        "id": "boQ-7t4PFwAr"
      },
      "source": [
        "## Frequency encoding:"
      ]
    },
    {
      "cell_type": "code",
      "metadata": {
        "id": "xT_jSkBSFuUv"
      },
      "source": [
        "#Frequency encoiding\n",
        "\n",
        "enc_nom_1 = (df.groupby('published_day').size()) / len(df)\n",
        "\n",
        "df['published_day_encode'] = df['published_day'].apply(lambda x : enc_nom_1[x])"
      ],
      "execution_count": 40,
      "outputs": []
    },
    {
      "cell_type": "code",
      "metadata": {
        "id": "2PPqGngRF6GT"
      },
      "source": [
        "df.drop(columns='published_day',inplace= True)"
      ],
      "execution_count": 41,
      "outputs": []
    },
    {
      "cell_type": "markdown",
      "metadata": {
        "id": "_YHX-UEnF9fS"
      },
      "source": [
        "## Most published months:\n"
      ]
    },
    {
      "cell_type": "code",
      "metadata": {
        "id": "juxeMypmF8kz"
      },
      "source": [
        "df['published_month']=df['published_month'].map({1:'Jan',2:'Feb',3:'March',4:'April',5:'May',6:'June',7:'July',8:'Aug',9:'Sep',10:'Oct',11:'Nov',12:'Dec'})\n"
      ],
      "execution_count": 42,
      "outputs": []
    },
    {
      "cell_type": "code",
      "metadata": {
        "colab": {
          "base_uri": "https://localhost:8080/",
          "height": 373
        },
        "id": "Q0-kdNzqGEB1",
        "outputId": "2e8650a5-adcd-4fe8-b619-fd1f57e56769"
      },
      "source": [
        "df['published_month'].value_counts().sort_values(ascending=False).plot(kind='bar', color='black')\n",
        "\n",
        "plt.title('Published Months')"
      ],
      "execution_count": 43,
      "outputs": [
        {
          "output_type": "execute_result",
          "data": {
            "text/plain": [
              "Text(0.5, 1.0, 'Published Months')"
            ]
          },
          "metadata": {
            "tags": []
          },
          "execution_count": 43
        },
        {
          "output_type": "display_data",
          "data": {
            "image/png": "[encoded data removed]",
            "text/plain": [
              "<Figure size 1440x360 with 1 Axes>"
            ]
          },
          "metadata": {
            "tags": [],
            "needs_background": "light"
          }
        }
      ]
    },
    {
      "cell_type": "code",
      "metadata": {
        "id": "rZpThogLGGVh"
      },
      "source": [
        "#Frequency encoding\n",
        "\n",
        "enc_nom_1 = (df.groupby('published_month').size()) / len(df)\n",
        "\n",
        "df['published_month_encode'] = df['published_month'].apply(lambda x : enc_nom_1[x])"
      ],
      "execution_count": 44,
      "outputs": []
    },
    {
      "cell_type": "code",
      "metadata": {
        "id": "CtYW-1QMGOPh"
      },
      "source": [
        "df.drop(columns='published_month',inplace= True)"
      ],
      "execution_count": 45,
      "outputs": []
    },
    {
      "cell_type": "markdown",
      "metadata": {
        "id": "aN-6dHEZGS3j"
      },
      "source": [
        "## Most published year:"
      ]
    },
    {
      "cell_type": "code",
      "metadata": {
        "colab": {
          "base_uri": "https://localhost:8080/",
          "height": 352
        },
        "id": "X9koqn54GULV",
        "outputId": "8db88461-1a22-4d21-d102-ce24b20b64a0"
      },
      "source": [
        "df['published_year'].value_counts().sort_values(ascending=False).plot(kind='bar', color='r')"
      ],
      "execution_count": 47,
      "outputs": [
        {
          "output_type": "execute_result",
          "data": {
            "text/plain": [
              "<matplotlib.axes._subplots.AxesSubplot at 0x7fad968d9a90>"
            ]
          },
          "metadata": {
            "tags": []
          },
          "execution_count": 47
        },
        {
          "output_type": "display_data",
          "data": {
            "image/png": "[encoded data removed]",
            "text/plain": [
              "<Figure size 1440x360 with 1 Axes>"
            ]
          },
          "metadata": {
            "tags": [],
            "needs_background": "light"
          }
        }
      ]
    },
    {
      "cell_type": "markdown",
      "metadata": {
        "id": "CMT6MawKGZtj"
      },
      "source": [
        "# Most popular recorded day, month and year:"
      ]
    },
    {
      "cell_type": "markdown",
      "metadata": {
        "id": "thYVnov1GdbK"
      },
      "source": [
        "## Recorded days distribution:"
      ]
    },
    {
      "cell_type": "code",
      "metadata": {
        "id": "DCJimcCpGWzQ"
      },
      "source": [
        "df['recorded_day']=df['recorded_day'].map({0:'Monday',1:'Tuesday',2:'Wednesday',3:'Thursday',4:'Friday',5:'Saturday',6:'Sunday'})"
      ],
      "execution_count": 48,
      "outputs": []
    },
    {
      "cell_type": "code",
      "metadata": {
        "colab": {
          "base_uri": "https://localhost:8080/",
          "height": 553
        },
        "id": "QFdd3oCaGjqS",
        "outputId": "2e9e15c1-e8c9-4302-8ba9-cdf35fd0c156"
      },
      "source": [
        "df['recorded_day'].value_counts().sort_values(ascending=False).plot(kind='bar', color='black')\n",
        "\n",
        "plt.title('Recorded Days')"
      ],
      "execution_count": 115,
      "outputs": [
        {
          "output_type": "error",
          "ename": "KeyError",
          "evalue": "ignored",
          "traceback": [
            "\u001b[0;31m---------------------------------------------------------------------------\u001b[0m",
            "\u001b[0;31mKeyError\u001b[0m                                  Traceback (most recent call last)",
            "\u001b[0;32m/usr/local/lib/python3.7/dist-packages/pandas/core/indexes/base.py\u001b[0m in \u001b[0;36mget_loc\u001b[0;34m(self, key, method, tolerance)\u001b[0m\n\u001b[1;32m   2897\u001b[0m             \u001b[0;32mtry\u001b[0m\u001b[0;34m:\u001b[0m\u001b[0;34m\u001b[0m\u001b[0;34m\u001b[0m\u001b[0m\n\u001b[0;32m-> 2898\u001b[0;31m                 \u001b[0;32mreturn\u001b[0m \u001b[0mself\u001b[0m\u001b[0;34m.\u001b[0m\u001b[0m_engine\u001b[0m\u001b[0;34m.\u001b[0m\u001b[0mget_loc\u001b[0m\u001b[0;34m(\u001b[0m\u001b[0mcasted_key\u001b[0m\u001b[0;34m)\u001b[0m\u001b[0;34m\u001b[0m\u001b[0;34m\u001b[0m\u001b[0m\n\u001b[0m\u001b[1;32m   2899\u001b[0m             \u001b[0;32mexcept\u001b[0m \u001b[0mKeyError\u001b[0m \u001b[0;32mas\u001b[0m \u001b[0merr\u001b[0m\u001b[0;34m:\u001b[0m\u001b[0;34m\u001b[0m\u001b[0;34m\u001b[0m\u001b[0m\n",
            "\u001b[0;32mpandas/_libs/index.pyx\u001b[0m in \u001b[0;36mpandas._libs.index.IndexEngine.get_loc\u001b[0;34m()\u001b[0m\n",
            "\u001b[0;32mpandas/_libs/index.pyx\u001b[0m in \u001b[0;36mpandas._libs.index.IndexEngine.get_loc\u001b[0;34m()\u001b[0m\n",
            "\u001b[0;32mpandas/_libs/hashtable_class_helper.pxi\u001b[0m in \u001b[0;36mpandas._libs.hashtable.PyObjectHashTable.get_item\u001b[0;34m()\u001b[0m\n",
            "\u001b[0;32mpandas/_libs/hashtable_class_helper.pxi\u001b[0m in \u001b[0;36mpandas._libs.hashtable.PyObjectHashTable.get_item\u001b[0;34m()\u001b[0m\n",
            "\u001b[0;31mKeyError\u001b[0m: 'recorded_day'",
            "\nThe above exception was the direct cause of the following exception:\n",
            "\u001b[0;31mKeyError\u001b[0m                                  Traceback (most recent call last)",
            "\u001b[0;32m<ipython-input-115-4fc92ad0debf>\u001b[0m in \u001b[0;36m<module>\u001b[0;34m()\u001b[0m\n\u001b[0;32m----> 1\u001b[0;31m \u001b[0mdf\u001b[0m\u001b[0;34m[\u001b[0m\u001b[0;34m'recorded_day'\u001b[0m\u001b[0;34m]\u001b[0m\u001b[0;34m.\u001b[0m\u001b[0mvalue_counts\u001b[0m\u001b[0;34m(\u001b[0m\u001b[0;34m)\u001b[0m\u001b[0;34m.\u001b[0m\u001b[0msort_values\u001b[0m\u001b[0;34m(\u001b[0m\u001b[0mascending\u001b[0m\u001b[0;34m=\u001b[0m\u001b[0;32mFalse\u001b[0m\u001b[0;34m)\u001b[0m\u001b[0;34m.\u001b[0m\u001b[0mplot\u001b[0m\u001b[0;34m(\u001b[0m\u001b[0mkind\u001b[0m\u001b[0;34m=\u001b[0m\u001b[0;34m'bar'\u001b[0m\u001b[0;34m,\u001b[0m \u001b[0mcolor\u001b[0m\u001b[0;34m=\u001b[0m\u001b[0;34m'black'\u001b[0m\u001b[0;34m)\u001b[0m\u001b[0;34m\u001b[0m\u001b[0;34m\u001b[0m\u001b[0m\n\u001b[0m\u001b[1;32m      2\u001b[0m \u001b[0;34m\u001b[0m\u001b[0m\n\u001b[1;32m      3\u001b[0m \u001b[0mplt\u001b[0m\u001b[0;34m.\u001b[0m\u001b[0mtitle\u001b[0m\u001b[0;34m(\u001b[0m\u001b[0;34m'Recorded Days'\u001b[0m\u001b[0;34m)\u001b[0m\u001b[0;34m\u001b[0m\u001b[0;34m\u001b[0m\u001b[0m\n",
            "\u001b[0;32m/usr/local/lib/python3.7/dist-packages/pandas/core/frame.py\u001b[0m in \u001b[0;36m__getitem__\u001b[0;34m(self, key)\u001b[0m\n\u001b[1;32m   2904\u001b[0m             \u001b[0;32mif\u001b[0m \u001b[0mself\u001b[0m\u001b[0;34m.\u001b[0m\u001b[0mcolumns\u001b[0m\u001b[0;34m.\u001b[0m\u001b[0mnlevels\u001b[0m \u001b[0;34m>\u001b[0m \u001b[0;36m1\u001b[0m\u001b[0;34m:\u001b[0m\u001b[0;34m\u001b[0m\u001b[0;34m\u001b[0m\u001b[0m\n\u001b[1;32m   2905\u001b[0m                 \u001b[0;32mreturn\u001b[0m \u001b[0mself\u001b[0m\u001b[0;34m.\u001b[0m\u001b[0m_getitem_multilevel\u001b[0m\u001b[0;34m(\u001b[0m\u001b[0mkey\u001b[0m\u001b[0;34m)\u001b[0m\u001b[0;34m\u001b[0m\u001b[0;34m\u001b[0m\u001b[0m\n\u001b[0;32m-> 2906\u001b[0;31m             \u001b[0mindexer\u001b[0m \u001b[0;34m=\u001b[0m \u001b[0mself\u001b[0m\u001b[0;34m.\u001b[0m\u001b[0mcolumns\u001b[0m\u001b[0;34m.\u001b[0m\u001b[0mget_loc\u001b[0m\u001b[0;34m(\u001b[0m\u001b[0mkey\u001b[0m\u001b[0;34m)\u001b[0m\u001b[0;34m\u001b[0m\u001b[0;34m\u001b[0m\u001b[0m\n\u001b[0m\u001b[1;32m   2907\u001b[0m             \u001b[0;32mif\u001b[0m \u001b[0mis_integer\u001b[0m\u001b[0;34m(\u001b[0m\u001b[0mindexer\u001b[0m\u001b[0;34m)\u001b[0m\u001b[0;34m:\u001b[0m\u001b[0;34m\u001b[0m\u001b[0;34m\u001b[0m\u001b[0m\n\u001b[1;32m   2908\u001b[0m                 \u001b[0mindexer\u001b[0m \u001b[0;34m=\u001b[0m \u001b[0;34m[\u001b[0m\u001b[0mindexer\u001b[0m\u001b[0;34m]\u001b[0m\u001b[0;34m\u001b[0m\u001b[0;34m\u001b[0m\u001b[0m\n",
            "\u001b[0;32m/usr/local/lib/python3.7/dist-packages/pandas/core/indexes/base.py\u001b[0m in \u001b[0;36mget_loc\u001b[0;34m(self, key, method, tolerance)\u001b[0m\n\u001b[1;32m   2898\u001b[0m                 \u001b[0;32mreturn\u001b[0m \u001b[0mself\u001b[0m\u001b[0;34m.\u001b[0m\u001b[0m_engine\u001b[0m\u001b[0;34m.\u001b[0m\u001b[0mget_loc\u001b[0m\u001b[0;34m(\u001b[0m\u001b[0mcasted_key\u001b[0m\u001b[0;34m)\u001b[0m\u001b[0;34m\u001b[0m\u001b[0;34m\u001b[0m\u001b[0m\n\u001b[1;32m   2899\u001b[0m             \u001b[0;32mexcept\u001b[0m \u001b[0mKeyError\u001b[0m \u001b[0;32mas\u001b[0m \u001b[0merr\u001b[0m\u001b[0;34m:\u001b[0m\u001b[0;34m\u001b[0m\u001b[0;34m\u001b[0m\u001b[0m\n\u001b[0;32m-> 2900\u001b[0;31m                 \u001b[0;32mraise\u001b[0m \u001b[0mKeyError\u001b[0m\u001b[0;34m(\u001b[0m\u001b[0mkey\u001b[0m\u001b[0;34m)\u001b[0m \u001b[0;32mfrom\u001b[0m \u001b[0merr\u001b[0m\u001b[0;34m\u001b[0m\u001b[0;34m\u001b[0m\u001b[0m\n\u001b[0m\u001b[1;32m   2901\u001b[0m \u001b[0;34m\u001b[0m\u001b[0m\n\u001b[1;32m   2902\u001b[0m         \u001b[0;32mif\u001b[0m \u001b[0mtolerance\u001b[0m \u001b[0;32mis\u001b[0m \u001b[0;32mnot\u001b[0m \u001b[0;32mNone\u001b[0m\u001b[0;34m:\u001b[0m\u001b[0;34m\u001b[0m\u001b[0;34m\u001b[0m\u001b[0m\n",
            "\u001b[0;31mKeyError\u001b[0m: 'recorded_day'"
          ]
        }
      ]
    },
    {
      "cell_type": "markdown",
      "metadata": {
        "id": "pO7V-3hgGoLq"
      },
      "source": [
        "## Frequency encoding :"
      ]
    },
    {
      "cell_type": "code",
      "metadata": {
        "id": "is1BBDlXGnfj"
      },
      "source": [
        "#Frequency encoiding\n",
        "\n",
        "enc_nom_1 = (df.groupby('recorded_day').size()) / len(df)\n",
        "\n",
        "df['recorded_day_encode'] = df['recorded_day'].apply(lambda x : enc_nom_1[x])"
      ],
      "execution_count": 50,
      "outputs": []
    },
    {
      "cell_type": "code",
      "metadata": {
        "id": "Ol7DfRfsGu26"
      },
      "source": [
        "df.drop(columns= 'recorded_day',inplace= True)"
      ],
      "execution_count": 51,
      "outputs": []
    },
    {
      "cell_type": "markdown",
      "metadata": {
        "id": "GVHwC39BGx7v"
      },
      "source": [
        "## Monthly Recorded distribution:"
      ]
    },
    {
      "cell_type": "code",
      "metadata": {
        "id": "hs0mT_UEGy_n"
      },
      "source": [
        "df['recorded_month']=df['recorded_month'].map({1:'Jan',2:'Feb',3:'March',4:'April',5:'May',6:'June',7:'July',8:'Aug',9:'Sep',10:'Oct',11:'Nov',12:'Dec'})"
      ],
      "execution_count": 52,
      "outputs": []
    },
    {
      "cell_type": "code",
      "metadata": {
        "colab": {
          "base_uri": "https://localhost:8080/",
          "height": 373
        },
        "id": "coeOcfUBG3tU",
        "outputId": "737ee2c7-c5c5-478f-82b8-3d1f9f54175e"
      },
      "source": [
        "df['recorded_month'].value_counts().sort_values(ascending=False).plot(kind='bar', color='black')\n",
        "\n",
        "plt.title('Recorded Months')"
      ],
      "execution_count": 53,
      "outputs": [
        {
          "output_type": "execute_result",
          "data": {
            "text/plain": [
              "Text(0.5, 1.0, 'Recorded Months')"
            ]
          },
          "metadata": {
            "tags": []
          },
          "execution_count": 53
        },
        {
          "output_type": "display_data",
          "data": {
            "image/png": "[encoded data removed]",
            "text/plain": [
              "<Figure size 1440x360 with 1 Axes>"
            ]
          },
          "metadata": {
            "tags": [],
            "needs_background": "light"
          }
        }
      ]
    },
    {
      "cell_type": "markdown",
      "metadata": {
        "id": "qzpO4jUBG6YF"
      },
      "source": [
        "## Frequency encoding:\n"
      ]
    },
    {
      "cell_type": "code",
      "metadata": {
        "id": "i2EuoE0pG7x7"
      },
      "source": [
        "#Frequency encoiding\n",
        "\n",
        "enc_nom_1 = (df.groupby('recorded_month').size()) / len(df)\n",
        "\n",
        "df['recorded_month_encode'] = df['recorded_month'].apply(lambda x : enc_nom_1[x])"
      ],
      "execution_count": 54,
      "outputs": []
    },
    {
      "cell_type": "code",
      "metadata": {
        "id": "k0AmSPRhG7ry"
      },
      "source": [
        "df.drop(columns= 'recorded_month',inplace= True)"
      ],
      "execution_count": 55,
      "outputs": []
    },
    {
      "cell_type": "markdown",
      "metadata": {
        "id": "dd3rywbiHDh1"
      },
      "source": [
        "## Most recorded year:"
      ]
    },
    {
      "cell_type": "code",
      "metadata": {
        "colab": {
          "base_uri": "https://localhost:8080/",
          "height": 352
        },
        "id": "0VUFZtK3HFI6",
        "outputId": "b2f7c89d-dde4-4bfa-a5c5-96e93f68728f"
      },
      "source": [
        "df['recorded_year'].value_counts().sort_values(ascending=False).plot(kind='bar', color='r')"
      ],
      "execution_count": 56,
      "outputs": [
        {
          "output_type": "execute_result",
          "data": {
            "text/plain": [
              "<matplotlib.axes._subplots.AxesSubplot at 0x7fad967ffd10>"
            ]
          },
          "metadata": {
            "tags": []
          },
          "execution_count": 56
        },
        {
          "output_type": "display_data",
          "data": {
            "image/png": "[encoded data removed]",
            "text/plain": [
              "<Figure size 1440x360 with 1 Axes>"
            ]
          },
          "metadata": {
            "tags": [],
            "needs_background": "light"
          }
        }
      ]
    },
    {
      "cell_type": "markdown",
      "metadata": {
        "id": "npXZ9YbfHK06"
      },
      "source": [
        "# We can drop the following columns:\n",
        "\n",
        "1.  URL- we aren't doing any SEO so doesn't seem important\n",
        "\n",
        "2. published and recorded date- we have already taken care of these non numerical columns."
      ]
    },
    {
      "cell_type": "code",
      "metadata": {
        "id": "4S7jcdtpHOZS"
      },
      "source": [
        "df.drop(columns=['url','recorded_date','published_date'],inplace=True)"
      ],
      "execution_count": 57,
      "outputs": []
    },
    {
      "cell_type": "code",
      "metadata": {
        "colab": {
          "base_uri": "https://localhost:8080/"
        },
        "id": "bVM9Vk6UHOV3",
        "outputId": "52551b9f-07c7-4df0-c209-2f1e43c78167"
      },
      "source": [
        "df.info()"
      ],
      "execution_count": 58,
      "outputs": [
        {
          "output_type": "stream",
          "text": [
            "<class 'pandas.core.frame.DataFrame'>\n",
            "RangeIndex: 4005 entries, 0 to 4004\n",
            "Data columns (total 23 columns):\n",
            " #   Column                  Non-Null Count  Dtype  \n",
            "---  ------                  --------------  -----  \n",
            " 0   title                   4005 non-null   object \n",
            " 1   speaker_1               4005 non-null   object \n",
            " 2   all_speakers            4005 non-null   object \n",
            " 3   occupations             4005 non-null   object \n",
            " 4   about_speakers          4005 non-null   object \n",
            " 5   views                   4005 non-null   float64\n",
            " 6   event                   4005 non-null   object \n",
            " 7   native_lang             4005 non-null   object \n",
            " 8   available_lang          4005 non-null   object \n",
            " 9   comments                4005 non-null   float64\n",
            " 10  duration                4005 non-null   float64\n",
            " 11  topics                  4005 non-null   object \n",
            " 12  related_talks           4005 non-null   object \n",
            " 13  description             4005 non-null   object \n",
            " 14  transcript              4005 non-null   object \n",
            " 15  published_year          4005 non-null   int64  \n",
            " 16  recorded_year           4005 non-null   int64  \n",
            " 17  diff_record_publish     4005 non-null   int16  \n",
            " 18  age_of_video            4005 non-null   int64  \n",
            " 19  published_day_encode    4005 non-null   float64\n",
            " 20  published_month_encode  4005 non-null   float64\n",
            " 21  recorded_day_encode     4005 non-null   float64\n",
            " 22  recorded_month_encode   4005 non-null   float64\n",
            "dtypes: float64(7), int16(1), int64(3), object(12)\n",
            "memory usage: 696.3+ KB\n"
          ],
          "name": "stdout"
        }
      ]
    },
    {
      "cell_type": "markdown",
      "metadata": {
        "id": "04-G7FTzHTrp"
      },
      "source": [
        "# Number of languages: "
      ]
    },
    {
      "cell_type": "markdown",
      "metadata": {
        "id": "v53ux-PRHYf6"
      },
      "source": [
        "First convert the string to list:"
      ]
    },
    {
      "cell_type": "code",
      "metadata": {
        "id": "V40ml-lNHOTP"
      },
      "source": [
        "#Function to use eval function to convert string to list.\n",
        "def convert_string_to_original_dtype(x):\n",
        "  return eval(x)"
      ],
      "execution_count": 59,
      "outputs": []
    },
    {
      "cell_type": "code",
      "metadata": {
        "id": "b78roqgLHOPq"
      },
      "source": [
        "df['available_lang']= df['available_lang'].apply(convert_string_to_original_dtype)"
      ],
      "execution_count": 60,
      "outputs": []
    },
    {
      "cell_type": "markdown",
      "metadata": {
        "id": "moAU1Lz-He3y"
      },
      "source": [
        "Create another feature that has the count of these languages:"
      ]
    },
    {
      "cell_type": "code",
      "metadata": {
        "id": "akX0DeZLHOFq"
      },
      "source": [
        "#Function to calculate the count of languages\n",
        "\n",
        "def length(x):\n",
        "  return len(x)"
      ],
      "execution_count": 61,
      "outputs": []
    },
    {
      "cell_type": "code",
      "metadata": {
        "id": "0wFwMKqJHkUk"
      },
      "source": [
        "df['count_available_lang']= df['available_lang'].apply(length)"
      ],
      "execution_count": 62,
      "outputs": []
    },
    {
      "cell_type": "markdown",
      "metadata": {
        "id": "IWWGmjjiHmk1"
      },
      "source": [
        "Let us see the distribution now:"
      ]
    },
    {
      "cell_type": "code",
      "metadata": {
        "colab": {
          "base_uri": "https://localhost:8080/",
          "height": 339
        },
        "id": "UVc7O3vGHkRR",
        "outputId": "48bcbaba-bc96-4789-a239-91b2ddac79d2"
      },
      "source": [
        "#Distribution of the top 10 counts of languages\n",
        "\n",
        "df['count_available_lang'].value_counts().sort_values(ascending= False).head(10).plot(kind= 'bar',color= 'purple')\n"
      ],
      "execution_count": 63,
      "outputs": [
        {
          "output_type": "execute_result",
          "data": {
            "text/plain": [
              "<matplotlib.axes._subplots.AxesSubplot at 0x7fad964bd890>"
            ]
          },
          "metadata": {
            "tags": []
          },
          "execution_count": 63
        },
        {
          "output_type": "display_data",
          "data": {
            "image/png": "[encoded data removed]",
            "text/plain": [
              "<Figure size 1440x360 with 1 Axes>"
            ]
          },
          "metadata": {
            "tags": [],
            "needs_background": "light"
          }
        }
      ]
    },
    {
      "cell_type": "markdown",
      "metadata": {
        "id": "dsriYA5pHtPy"
      },
      "source": [
        "Most ted talks are available in 20-30 languages."
      ]
    },
    {
      "cell_type": "markdown",
      "metadata": {
        "id": "CVMR84AXHzNz"
      },
      "source": [
        "Now that I have the count of languages in a numerical format, I can drop the available languages column."
      ]
    },
    {
      "cell_type": "code",
      "metadata": {
        "id": "U96_7QuDHkOF"
      },
      "source": [
        "#dropping the available languages\n",
        "\n",
        "df.drop(columns='available_lang',inplace= True)"
      ],
      "execution_count": 64,
      "outputs": []
    },
    {
      "cell_type": "markdown",
      "metadata": {
        "id": "bvTQMJoMH4u8"
      },
      "source": [
        "## Native Languages:"
      ]
    },
    {
      "cell_type": "code",
      "metadata": {
        "colab": {
          "base_uri": "https://localhost:8080/"
        },
        "id": "TDKIXS4KHkAS",
        "outputId": "19003b61-b59e-44f3-aaec-b75ca3233010"
      },
      "source": [
        "#Looking at the unique values first\n",
        "\n",
        "df['native_lang'].unique()"
      ],
      "execution_count": 65,
      "outputs": [
        {
          "output_type": "execute_result",
          "data": {
            "text/plain": [
              "array(['en', 'fr', 'de', 'pt', 'ko', 'zh-cn', 'ar', 'pt-br', 'es', 'ja',\n",
              "       'it', 'hi'], dtype=object)"
            ]
          },
          "metadata": {
            "tags": []
          },
          "execution_count": 65
        }
      ]
    },
    {
      "cell_type": "code",
      "metadata": {
        "colab": {
          "base_uri": "https://localhost:8080/",
          "height": 353
        },
        "id": "cYk3sqUMH9vJ",
        "outputId": "b0b05dd3-687e-4048-f812-35efa100114d"
      },
      "source": [
        "#The distribution:\n",
        "\n",
        "df['native_lang'].value_counts().plot(kind='bar',color='purple')"
      ],
      "execution_count": 66,
      "outputs": [
        {
          "output_type": "execute_result",
          "data": {
            "text/plain": [
              "<matplotlib.axes._subplots.AxesSubplot at 0x7fad96722090>"
            ]
          },
          "metadata": {
            "tags": []
          },
          "execution_count": 66
        },
        {
          "output_type": "display_data",
          "data": {
            "image/png": "[encoded data removed]",
            "text/plain": [
              "<Figure size 1440x360 with 1 Axes>"
            ]
          },
          "metadata": {
            "tags": [],
            "needs_background": "light"
          }
        }
      ]
    },
    {
      "cell_type": "markdown",
      "metadata": {
        "id": "0HdGosPnIBjm"
      },
      "source": [
        "Around 3950 are available in English and around only 50 in other languages. This will not result in any difference in the views because of the 5% difference and mostly is a homogenous column.\n",
        "\n",
        "I will therefore drop this to not further increase the complexity."
      ]
    },
    {
      "cell_type": "code",
      "metadata": {
        "id": "_BFTca83ID4v"
      },
      "source": [
        "df.drop(columns='native_lang',inplace= True)"
      ],
      "execution_count": 67,
      "outputs": []
    },
    {
      "cell_type": "markdown",
      "metadata": {
        "id": "KiBluwViIH9n"
      },
      "source": [
        "## Event:"
      ]
    },
    {
      "cell_type": "code",
      "metadata": {
        "colab": {
          "base_uri": "https://localhost:8080/",
          "height": 35
        },
        "id": "JERChwZjID2J",
        "outputId": "9c74bf8e-fe5e-49f4-eaed-988987872c70"
      },
      "source": [
        "df['event'][0]"
      ],
      "execution_count": 68,
      "outputs": [
        {
          "output_type": "execute_result",
          "data": {
            "application/vnd.google.colaboratory.intrinsic+json": {
              "type": "string"
            },
            "text/plain": [
              "'TED2006'"
            ]
          },
          "metadata": {
            "tags": []
          },
          "execution_count": 68
        }
      ]
    },
    {
      "cell_type": "code",
      "metadata": {
        "colab": {
          "base_uri": "https://localhost:8080/",
          "height": 406
        },
        "id": "BALqEXYYIDnr",
        "outputId": "a1738d4b-274b-46f2-ddd4-b29965fea027"
      },
      "source": [
        "df['event'].value_counts().sort_values(ascending= False).head(20).plot(kind= 'bar')"
      ],
      "execution_count": 69,
      "outputs": [
        {
          "output_type": "execute_result",
          "data": {
            "text/plain": [
              "<matplotlib.axes._subplots.AxesSubplot at 0x7fad96ae3a50>"
            ]
          },
          "metadata": {
            "tags": []
          },
          "execution_count": 69
        },
        {
          "output_type": "display_data",
          "data": {
            "image/png": "[encoded data removed]",
            "text/plain": [
              "<Figure size 1440x360 with 1 Axes>"
            ]
          },
          "metadata": {
            "tags": [],
            "needs_background": "light"
          }
        }
      ]
    },
    {
      "cell_type": "markdown",
      "metadata": {
        "id": "u7e_VfMyIPj6"
      },
      "source": [
        "The Ted-Ed  being the one with the highest medium gives us a idea that \n",
        "\n",
        "---\n",
        "\n",
        "knowledge sharing and academics is a very popular kind of medium."
      ]
    },
    {
      "cell_type": "markdown",
      "metadata": {
        "id": "gkpljJFGIUoR"
      },
      "source": [
        "## Frequency Encoding-"
      ]
    },
    {
      "cell_type": "code",
      "metadata": {
        "id": "ytfs8OpsITkE"
      },
      "source": [
        "enc_nom_1 = (df.groupby('event').size()) / len(df)\n",
        "\n",
        "df['event_encode'] = df['event'].apply(lambda x : enc_nom_1[x])"
      ],
      "execution_count": 72,
      "outputs": []
    },
    {
      "cell_type": "code",
      "metadata": {
        "id": "TCwkxIUfIbIA"
      },
      "source": [
        "df.drop(columns= 'event',inplace =True)"
      ],
      "execution_count": 73,
      "outputs": []
    },
    {
      "cell_type": "markdown",
      "metadata": {
        "id": "ELRMMC5TIeOz"
      },
      "source": [
        "## Number of Speakers:"
      ]
    },
    {
      "cell_type": "markdown",
      "metadata": {
        "id": "JcDJT-jcIikz"
      },
      "source": [
        " This column will help retain the speakers :"
      ]
    },
    {
      "cell_type": "code",
      "metadata": {
        "colab": {
          "base_uri": "https://localhost:8080/",
          "height": 35
        },
        "id": "bJ2c5IAiImHt",
        "outputId": "e3c9f6fe-f397-47d3-99bf-2996ddbd517f"
      },
      "source": [
        "df['all_speakers'][0]"
      ],
      "execution_count": 74,
      "outputs": [
        {
          "output_type": "execute_result",
          "data": {
            "application/vnd.google.colaboratory.intrinsic+json": {
              "type": "string"
            },
            "text/plain": [
              "\"{0: 'Al Gore'}\""
            ]
          },
          "metadata": {
            "tags": []
          },
          "execution_count": 74
        }
      ]
    },
    {
      "cell_type": "markdown",
      "metadata": {
        "id": "dxg1ucYgIo-t"
      },
      "source": [
        "Function for converting:"
      ]
    },
    {
      "cell_type": "code",
      "metadata": {
        "id": "DjZDi40_ImFB"
      },
      "source": [
        "#This function converts string to dict:\n",
        "def convert_string_to_dict(x):\n",
        "  if x== 'Unknown':\n",
        "    pass\n",
        "  else:\n",
        "    return eval(x)"
      ],
      "execution_count": 75,
      "outputs": []
    },
    {
      "cell_type": "code",
      "metadata": {
        "id": "qe9ub_V4ImBy"
      },
      "source": [
        "df['all_speakers']=df['all_speakers'].apply(convert_string_to_dict)"
      ],
      "execution_count": 76,
      "outputs": []
    },
    {
      "cell_type": "code",
      "metadata": {
        "colab": {
          "base_uri": "https://localhost:8080/"
        },
        "id": "Y2GmbwKQIl5X",
        "outputId": "2a6e750e-0c43-4f0b-9517-4ea137c3692b"
      },
      "source": [
        "df['all_speakers'][0]"
      ],
      "execution_count": 77,
      "outputs": [
        {
          "output_type": "execute_result",
          "data": {
            "text/plain": [
              "{0: 'Al Gore'}"
            ]
          },
          "metadata": {
            "tags": []
          },
          "execution_count": 77
        }
      ]
    },
    {
      "cell_type": "markdown",
      "metadata": {
        "id": "GRoFwTQdIz3t"
      },
      "source": [
        "Next I want to get speakers in a series format and not in a dictionary format. And the count of speakers in each talk."
      ]
    },
    {
      "cell_type": "code",
      "metadata": {
        "colab": {
          "base_uri": "https://localhost:8080/"
        },
        "id": "aIg2rJGMI5D2",
        "outputId": "e6dfc4e8-cd49-4c8b-8f31-8e317389d0f8"
      },
      "source": [
        "len(df['all_speakers'][0])"
      ],
      "execution_count": 78,
      "outputs": [
        {
          "output_type": "execute_result",
          "data": {
            "text/plain": [
              "1"
            ]
          },
          "metadata": {
            "tags": []
          },
          "execution_count": 78
        }
      ]
    },
    {
      "cell_type": "code",
      "metadata": {
        "id": "MPhvXcwJI7FL"
      },
      "source": [
        "#function to obtain the count of speakers\n",
        "\n",
        "def get_count_speakers(x):\n",
        "  try:\n",
        "    return len(x)\n",
        "  except TypeError:\n",
        "    return 0\n"
      ],
      "execution_count": 79,
      "outputs": []
    },
    {
      "cell_type": "code",
      "metadata": {
        "id": "eHR4h4gwI9qN"
      },
      "source": [
        "df['count_of_speakers']= df['all_speakers'].apply(get_count_speakers)"
      ],
      "execution_count": 80,
      "outputs": []
    },
    {
      "cell_type": "code",
      "metadata": {
        "colab": {
          "base_uri": "https://localhost:8080/",
          "height": 349
        },
        "id": "mb7nNpY2I_0t",
        "outputId": "2788ee3e-e29f-47be-d7a5-a6565da6f046"
      },
      "source": [
        "df['count_of_speakers'].value_counts().plot(kind='bar',color='purple')\n",
        "\n",
        "plt.title('Count of Speakers')"
      ],
      "execution_count": 81,
      "outputs": [
        {
          "output_type": "execute_result",
          "data": {
            "text/plain": [
              "Text(0.5, 1.0, 'Count of Speakers')"
            ]
          },
          "metadata": {
            "tags": []
          },
          "execution_count": 81
        },
        {
          "output_type": "display_data",
          "data": {
            "image/png": "[encoded data removed]",
            "text/plain": [
              "<Figure size 1440x360 with 1 Axes>"
            ]
          },
          "metadata": {
            "tags": [],
            "needs_background": "light"
          }
        }
      ]
    },
    {
      "cell_type": "markdown",
      "metadata": {
        "id": "GwqsgfnlJDjt"
      },
      "source": [
        "Except a few, most have 1 speaker in the talks."
      ]
    },
    {
      "cell_type": "code",
      "metadata": {
        "id": "Z5vc9TK8JFvp"
      },
      "source": [
        "#function to get a separate column for the speakers only\n",
        "\n",
        "def get_speakers(x):\n",
        "  speakers=[]\n",
        "  try:\n",
        "    for key,value in x.items():\n",
        "      speakers.append(value)\n",
        "  except AttributeError:\n",
        "    speakers.append('Unknown')\n",
        "  return speakers\n"
      ],
      "execution_count": 82,
      "outputs": []
    },
    {
      "cell_type": "code",
      "metadata": {
        "id": "HO1prbYOJFsq"
      },
      "source": [
        "df['Speakers']= df['all_speakers'].apply(get_speakers)"
      ],
      "execution_count": 83,
      "outputs": []
    },
    {
      "cell_type": "markdown",
      "metadata": {
        "id": "Ma9D-QZAJQ-j"
      },
      "source": [
        "Let us see who are the speakers :"
      ]
    },
    {
      "cell_type": "code",
      "metadata": {
        "colab": {
          "base_uri": "https://localhost:8080/",
          "height": 440
        },
        "id": "3XVYzNwSJWZ2",
        "outputId": "92d7149b-8d36-4396-be4f-a0381db72edb"
      },
      "source": [
        "df['Speakers'].value_counts().sort_values(ascending=False).head(20).plot(kind='bar',color='purple')"
      ],
      "execution_count": 84,
      "outputs": [
        {
          "output_type": "execute_result",
          "data": {
            "text/plain": [
              "<matplotlib.axes._subplots.AxesSubplot at 0x7fad9632c110>"
            ]
          },
          "metadata": {
            "tags": []
          },
          "execution_count": 84
        },
        {
          "output_type": "display_data",
          "data": {
            "image/png": "[encoded data removed]",
            "text/plain": [
              "<Figure size 1440x360 with 1 Axes>"
            ]
          },
          "metadata": {
            "tags": [],
            "needs_background": "light"
          }
        }
      ]
    },
    {
      "cell_type": "markdown",
      "metadata": {
        "id": "WGYJAvkfJZvz"
      },
      "source": [
        "Comparing views with number of speakers:"
      ]
    },
    {
      "cell_type": "code",
      "metadata": {
        "id": "VXCEMb5GJZR8"
      },
      "source": [
        "df['count_of_speakers'] = MinMaxScaler().fit_transform(np.array(df['count_of_speakers']).reshape(-1,1))"
      ],
      "execution_count": 86,
      "outputs": []
    },
    {
      "cell_type": "code",
      "metadata": {
        "colab": {
          "base_uri": "https://localhost:8080/",
          "height": 352
        },
        "id": "T3rzqChXJimk",
        "outputId": "52fa8d6c-dc30-4b56-e4b8-790c5faadb54"
      },
      "source": [
        "sns.scatterplot(x= df['count_of_speakers'], y=df['views'])"
      ],
      "execution_count": 87,
      "outputs": [
        {
          "output_type": "execute_result",
          "data": {
            "text/plain": [
              "<matplotlib.axes._subplots.AxesSubplot at 0x7fad9615e690>"
            ]
          },
          "metadata": {
            "tags": []
          },
          "execution_count": 87
        },
        {
          "output_type": "display_data",
          "data": {
            "image/png": "[encoded data removed]",
            "text/plain": [
              "<Figure size 1440x360 with 1 Axes>"
            ]
          },
          "metadata": {
            "tags": [],
            "needs_background": "light"
          }
        }
      ]
    },
    {
      "cell_type": "markdown",
      "metadata": {
        "id": "ozWRtNnyJnfb"
      },
      "source": [
        "Since the number of speakers is not at all related to views.\n",
        "\n",
        "We can infer from here that, one speaker is enough for views if he popular enough and not needed for two speakers\n",
        "\n",
        "As Speakers_1 is very similar to all_Speakers"
      ]
    },
    {
      "cell_type": "code",
      "metadata": {
        "id": "un_PVpYhJqKT"
      },
      "source": [
        "df.drop(columns=['all_speakers','count_of_speakers','Speakers'],inplace= True)"
      ],
      "execution_count": 88,
      "outputs": []
    },
    {
      "cell_type": "markdown",
      "metadata": {
        "id": "ykk7RqCnJurL"
      },
      "source": [
        "## Speaker 1:"
      ]
    },
    {
      "cell_type": "code",
      "metadata": {
        "colab": {
          "base_uri": "https://localhost:8080/",
          "height": 432
        },
        "id": "scvri25uJ4ny",
        "outputId": "943181f6-3b73-47e5-909e-eca7c9db6b8f"
      },
      "source": [
        "df['speaker_1'].value_counts().sort_values(ascending= False).head(30).plot(kind='bar')"
      ],
      "execution_count": 89,
      "outputs": [
        {
          "output_type": "execute_result",
          "data": {
            "text/plain": [
              "<matplotlib.axes._subplots.AxesSubplot at 0x7fad96379c10>"
            ]
          },
          "metadata": {
            "tags": []
          },
          "execution_count": 89
        },
        {
          "output_type": "display_data",
          "data": {
            "image/png": "[encoded data removed]",
            "text/plain": [
              "<Figure size 1440x360 with 1 Axes>"
            ]
          },
          "metadata": {
            "tags": [],
            "needs_background": "light"
          }
        }
      ]
    },
    {
      "cell_type": "markdown",
      "metadata": {
        "id": "ysfuLcMTKA9o"
      },
      "source": [
        "## Encoding by Frequency Encoding:"
      ]
    },
    {
      "cell_type": "code",
      "metadata": {
        "id": "9lC1mR8GJ4ku"
      },
      "source": [
        "enc_nom_1 = (df.groupby('speaker_1').size()) / len(df)\n"
      ],
      "execution_count": 90,
      "outputs": []
    },
    {
      "cell_type": "code",
      "metadata": {
        "id": "A1CLrDuoJ4i4"
      },
      "source": [
        "df['speaker_1_encode'] = df['speaker_1'].apply(lambda x : enc_nom_1[x])"
      ],
      "execution_count": 91,
      "outputs": []
    },
    {
      "cell_type": "markdown",
      "metadata": {
        "id": "q8Lt_AzwKJIr"
      },
      "source": [
        "## Dropping the speaker 1 feature then:"
      ]
    },
    {
      "cell_type": "code",
      "metadata": {
        "id": "Cdr550FlJ4ga"
      },
      "source": [
        "df.drop(columns='speaker_1',inplace= True)"
      ],
      "execution_count": 92,
      "outputs": []
    },
    {
      "cell_type": "markdown",
      "metadata": {
        "id": "prmFUdmQKN47"
      },
      "source": [
        "## Occupation:"
      ]
    },
    {
      "cell_type": "code",
      "metadata": {
        "colab": {
          "base_uri": "https://localhost:8080/"
        },
        "id": "Ra7MOe5oJ4d0",
        "outputId": "939f7dd2-08ca-48c1-e16c-940a1d5313f9"
      },
      "source": [
        "df['occupations'][0]"
      ],
      "execution_count": 94,
      "outputs": [
        {
          "output_type": "execute_result",
          "data": {
            "text/plain": [
              "{0: ['climate advocate']}"
            ]
          },
          "metadata": {
            "tags": []
          },
          "execution_count": 94
        }
      ]
    },
    {
      "cell_type": "code",
      "metadata": {
        "id": "XhVM3YDoJ4bg"
      },
      "source": [
        "df['occupations']=df['occupations'].apply(convert_string_to_dict)"
      ],
      "execution_count": 93,
      "outputs": []
    },
    {
      "cell_type": "code",
      "metadata": {
        "id": "VZskEx4rJ4ZK"
      },
      "source": [
        "#Function to convert list to string\n",
        "def list_to_string(x):\n",
        "  for item in x:\n",
        "    return item"
      ],
      "execution_count": 95,
      "outputs": []
    },
    {
      "cell_type": "code",
      "metadata": {
        "id": "CXhNRa_OJ4WP"
      },
      "source": [
        "#Function to obtain occupation \n",
        "\n",
        "def get_occupation(x):\n",
        "  try:\n",
        "    for key,value in x.items():\n",
        "      return value\n",
        "  except AttributeError:\n",
        "    return 'Unknown'\n",
        "\n"
      ],
      "execution_count": 96,
      "outputs": []
    },
    {
      "cell_type": "code",
      "metadata": {
        "id": "KjVbBdeFKaYD"
      },
      "source": [
        "df['occupation']= df['occupations'].apply(get_occupation)"
      ],
      "execution_count": 97,
      "outputs": []
    },
    {
      "cell_type": "code",
      "metadata": {
        "id": "2RuYue1gKdYD"
      },
      "source": [
        "df['occupation'][0]"
      ],
      "execution_count": null,
      "outputs": []
    },
    {
      "cell_type": "code",
      "metadata": {
        "id": "94zhL8QfKf0D"
      },
      "source": [
        "df['occupation']= df['occupation'].apply(list_to_string)"
      ],
      "execution_count": 98,
      "outputs": []
    },
    {
      "cell_type": "code",
      "metadata": {
        "colab": {
          "base_uri": "https://localhost:8080/",
          "height": 397
        },
        "id": "SWo7L6BfKh1M",
        "outputId": "b0f0022f-0d05-4b38-ef51-effb7d5a8cd3"
      },
      "source": [
        "#Plot the occupations plot\n",
        "\n",
        "df['occupation'].value_counts().head(10).plot(kind='bar',color= 'purple')"
      ],
      "execution_count": 99,
      "outputs": [
        {
          "output_type": "execute_result",
          "data": {
            "text/plain": [
              "<matplotlib.axes._subplots.AxesSubplot at 0x7fad95f94490>"
            ]
          },
          "metadata": {
            "tags": []
          },
          "execution_count": 99
        },
        {
          "output_type": "display_data",
          "data": {
            "image/png": "[encoded data removed]",
            "text/plain": [
              "<Figure size 1440x360 with 1 Axes>"
            ]
          },
          "metadata": {
            "tags": [],
            "needs_background": "light"
          }
        }
      ]
    },
    {
      "cell_type": "markdown",
      "metadata": {
        "id": "ILZplweQKpJs"
      },
      "source": [
        "A lot of these values are given as 'U'. Let me understand these values first."
      ]
    },
    {
      "cell_type": "code",
      "metadata": {
        "colab": {
          "base_uri": "https://localhost:8080/",
          "height": 357
        },
        "id": "M9kiPbgAKqIr",
        "outputId": "d81dfc5e-c49c-4231-f061-a5a6d69af134"
      },
      "source": [
        "df[df['occupation']=='U'].head(3)"
      ],
      "execution_count": 100,
      "outputs": [
        {
          "output_type": "execute_result",
          "data": {
            "text/html": [
              "<div>\n",
              "<style scoped>\n",
              "    .dataframe tbody tr th:only-of-type {\n",
              "        vertical-align: middle;\n",
              "    }\n",
              "\n",
              "    .dataframe tbody tr th {\n",
              "        vertical-align: top;\n",
              "    }\n",
              "\n",
              "    .dataframe thead th {\n",
              "        text-align: right;\n",
              "    }\n",
              "</style>\n",
              "<table border=\"1\" class=\"dataframe\">\n",
              "  <thead>\n",
              "    <tr style=\"text-align: right;\">\n",
              "      <th></th>\n",
              "      <th>title</th>\n",
              "      <th>occupations</th>\n",
              "      <th>about_speakers</th>\n",
              "      <th>views</th>\n",
              "      <th>comments</th>\n",
              "      <th>duration</th>\n",
              "      <th>topics</th>\n",
              "      <th>related_talks</th>\n",
              "      <th>description</th>\n",
              "      <th>transcript</th>\n",
              "      <th>published_year</th>\n",
              "      <th>recorded_year</th>\n",
              "      <th>diff_record_publish</th>\n",
              "      <th>age_of_video</th>\n",
              "      <th>published_day_encode</th>\n",
              "      <th>published_month_encode</th>\n",
              "      <th>recorded_day_encode</th>\n",
              "      <th>recorded_month_encode</th>\n",
              "      <th>count_available_lang</th>\n",
              "      <th>event_encode</th>\n",
              "      <th>speaker_1_encode</th>\n",
              "      <th>occupation</th>\n",
              "    </tr>\n",
              "  </thead>\n",
              "  <tbody>\n",
              "    <tr>\n",
              "      <th>1142</th>\n",
              "      <td>I am a pirate</td>\n",
              "      <td>None</td>\n",
              "      <td>{0: 'Rick Falkvinge, didn’t plan on becoming a...</td>\n",
              "      <td>0.003390</td>\n",
              "      <td>0.019848</td>\n",
              "      <td>0.268514</td>\n",
              "      <td>['Internet', 'TEDx', 'global issues', 'politic...</td>\n",
              "      <td>{1329: 'Why SOPA is a bad idea', 871: 'Re-exam...</td>\n",
              "      <td>The Pirate Party fights for transparency, anon...</td>\n",
              "      <td>Thank y'all! This is going to be a motivationa...</td>\n",
              "      <td>2012</td>\n",
              "      <td>2013</td>\n",
              "      <td>-578</td>\n",
              "      <td>9</td>\n",
              "      <td>0.013733</td>\n",
              "      <td>0.105618</td>\n",
              "      <td>0.212484</td>\n",
              "      <td>0.081648</td>\n",
              "      <td>16</td>\n",
              "      <td>0.001498</td>\n",
              "      <td>0.00025</td>\n",
              "      <td>U</td>\n",
              "    </tr>\n",
              "    <tr>\n",
              "      <th>1170</th>\n",
              "      <td>Tracking our online trackers</td>\n",
              "      <td>None</td>\n",
              "      <td>{0: 'Gary Kovacs is a technologist and the for...</td>\n",
              "      <td>0.034221</td>\n",
              "      <td>0.040316</td>\n",
              "      <td>0.087778</td>\n",
              "      <td>['Internet', 'advertising', 'business', 'priva...</td>\n",
              "      <td>{1370: 'All your devices can be hacked', 788: ...</td>\n",
              "      <td>As you surf the Web, information is being coll...</td>\n",
              "      <td>I don't know why, but I'm continually amazed t...</td>\n",
              "      <td>2012</td>\n",
              "      <td>2012</td>\n",
              "      <td>64</td>\n",
              "      <td>9</td>\n",
              "      <td>0.207740</td>\n",
              "      <td>0.077903</td>\n",
              "      <td>0.181273</td>\n",
              "      <td>0.164544</td>\n",
              "      <td>32</td>\n",
              "      <td>0.016230</td>\n",
              "      <td>0.00025</td>\n",
              "      <td>U</td>\n",
              "    </tr>\n",
              "    <tr>\n",
              "      <th>1241</th>\n",
              "      <td>Image recognition that triggers augmented reality</td>\n",
              "      <td>None</td>\n",
              "      <td>{0: 'Matt Mills comes from Aurasma, a startup ...</td>\n",
              "      <td>0.041165</td>\n",
              "      <td>0.021709</td>\n",
              "      <td>0.109788</td>\n",
              "      <td>['demo', 'design', 'interface design', 'scienc...</td>\n",
              "      <td>{481: 'Meet the SixthSense interaction', 1411:...</td>\n",
              "      <td>Matt Mills and Tamara Roukaerts demonstrate Au...</td>\n",
              "      <td>So wouldn't it be amazing if our phones could ...</td>\n",
              "      <td>2012</td>\n",
              "      <td>2012</td>\n",
              "      <td>23</td>\n",
              "      <td>9</td>\n",
              "      <td>0.207740</td>\n",
              "      <td>0.069413</td>\n",
              "      <td>0.175031</td>\n",
              "      <td>0.092385</td>\n",
              "      <td>26</td>\n",
              "      <td>0.017478</td>\n",
              "      <td>0.00025</td>\n",
              "      <td>U</td>\n",
              "    </tr>\n",
              "  </tbody>\n",
              "</table>\n",
              "</div>"
            ],
            "text/plain": [
              "                                                  title  ... occupation\n",
              "1142                                      I am a pirate  ...          U\n",
              "1170                       Tracking our online trackers  ...          U\n",
              "1241  Image recognition that triggers augmented reality  ...          U\n",
              "\n",
              "[3 rows x 22 columns]"
            ]
          },
          "metadata": {
            "tags": []
          },
          "execution_count": 100
        }
      ]
    },
    {
      "cell_type": "markdown",
      "metadata": {
        "id": "D95439lAKvHQ"
      },
      "source": [
        "Most of the U values are given for None type occupations. I will be changing them to not available."
      ]
    },
    {
      "cell_type": "code",
      "metadata": {
        "id": "Dsa0YjXzKwuq"
      },
      "source": [
        "df['occupation']=df['occupation'].replace(['U'],'Not available')"
      ],
      "execution_count": 101,
      "outputs": []
    },
    {
      "cell_type": "code",
      "metadata": {
        "colab": {
          "base_uri": "https://localhost:8080/",
          "height": 397
        },
        "id": "7PK18MP-Ky_C",
        "outputId": "0ae8711f-073c-4cb3-d2fa-269d6085e0a1"
      },
      "source": [
        "df['occupation'].value_counts().head(10).plot(kind='bar',color= 'purple')"
      ],
      "execution_count": 102,
      "outputs": [
        {
          "output_type": "execute_result",
          "data": {
            "text/plain": [
              "<matplotlib.axes._subplots.AxesSubplot at 0x7fad963af1d0>"
            ]
          },
          "metadata": {
            "tags": []
          },
          "execution_count": 102
        },
        {
          "output_type": "display_data",
          "data": {
            "image/png": "[encoded data removed]",
            "text/plain": [
              "<Figure size 1440x360 with 1 Axes>"
            ]
          },
          "metadata": {
            "tags": [],
            "needs_background": "light"
          }
        }
      ]
    },
    {
      "cell_type": "code",
      "metadata": {
        "id": "k0CRorH2K2Cb"
      },
      "source": [
        "df.drop(columns='occupations',inplace= True)"
      ],
      "execution_count": 103,
      "outputs": []
    },
    {
      "cell_type": "markdown",
      "metadata": {
        "id": "q-6eIaCBK4Jl"
      },
      "source": [
        "## Frequency encoding"
      ]
    },
    {
      "cell_type": "code",
      "metadata": {
        "id": "ESd0xQcjK6k7"
      },
      "source": [
        "enc_nom_1 = (df.groupby('occupation').size()) / len(df)\n",
        "\n",
        "df['occupation_encode'] = df['occupation'].apply(lambda x : enc_nom_1[x])"
      ],
      "execution_count": 106,
      "outputs": []
    },
    {
      "cell_type": "code",
      "metadata": {
        "id": "gc6UHEWVK8zg"
      },
      "source": [
        "df.drop(columns='occupation',inplace=True)"
      ],
      "execution_count": 107,
      "outputs": []
    },
    {
      "cell_type": "markdown",
      "metadata": {
        "id": "8xN6BslrK_K0"
      },
      "source": [
        "## Correlation between variables- "
      ]
    },
    {
      "cell_type": "code",
      "metadata": {
        "colab": {
          "base_uri": "https://localhost:8080/"
        },
        "id": "jnyyPFjaLBVl",
        "outputId": "dca8c052-28df-437c-e703-c6caf7a8b36d"
      },
      "source": [
        "df.info()"
      ],
      "execution_count": 108,
      "outputs": [
        {
          "output_type": "stream",
          "text": [
            "<class 'pandas.core.frame.DataFrame'>\n",
            "RangeIndex: 4005 entries, 0 to 4004\n",
            "Data columns (total 21 columns):\n",
            " #   Column                  Non-Null Count  Dtype  \n",
            "---  ------                  --------------  -----  \n",
            " 0   title                   4005 non-null   object \n",
            " 1   about_speakers          4005 non-null   object \n",
            " 2   views                   4005 non-null   float64\n",
            " 3   comments                4005 non-null   float64\n",
            " 4   duration                4005 non-null   float64\n",
            " 5   topics                  4005 non-null   object \n",
            " 6   related_talks           4005 non-null   object \n",
            " 7   description             4005 non-null   object \n",
            " 8   transcript              4005 non-null   object \n",
            " 9   published_year          4005 non-null   int64  \n",
            " 10  recorded_year           4005 non-null   int64  \n",
            " 11  diff_record_publish     4005 non-null   int16  \n",
            " 12  age_of_video            4005 non-null   int64  \n",
            " 13  published_day_encode    4005 non-null   float64\n",
            " 14  published_month_encode  4005 non-null   float64\n",
            " 15  recorded_day_encode     4005 non-null   float64\n",
            " 16  recorded_month_encode   4005 non-null   float64\n",
            " 17  count_available_lang    4005 non-null   int64  \n",
            " 18  event_encode            4005 non-null   float64\n",
            " 19  speaker_1_encode        4005 non-null   float64\n",
            " 20  occupation_encode       4005 non-null   float64\n",
            "dtypes: float64(10), int16(1), int64(4), object(6)\n",
            "memory usage: 633.7+ KB\n"
          ],
          "name": "stdout"
        }
      ]
    },
    {
      "cell_type": "code",
      "metadata": {
        "colab": {
          "base_uri": "https://localhost:8080/",
          "height": 457
        },
        "id": "Wbk53-DMLD6L",
        "outputId": "4aacabdb-df55-4474-db01-d27894535003"
      },
      "source": [
        "sns.heatmap(df.corr(),annot= True)"
      ],
      "execution_count": 109,
      "outputs": [
        {
          "output_type": "execute_result",
          "data": {
            "text/plain": [
              "<matplotlib.axes._subplots.AxesSubplot at 0x7fad9604d4d0>"
            ]
          },
          "metadata": {
            "tags": []
          },
          "execution_count": 109
        },
        {
          "output_type": "display_data",
          "data": {
            "image/png": "[encoded data removed]",
            "text/plain": [
              "<Figure size 1440x360 with 2 Axes>"
            ]
          },
          "metadata": {
            "tags": [],
            "needs_background": "light"
          }
        }
      ]
    },
    {
      "cell_type": "markdown",
      "metadata": {
        "id": "nkeV_NqvLJeU"
      },
      "source": [
        "## We can remove occupation and event:\n",
        "\n",
        "1. They are highly correlated to each other\n",
        "\n",
        "2. Not much relationship with the views."
      ]
    },
    {
      "cell_type": "code",
      "metadata": {
        "id": "RH-u6Ds3LIVM"
      },
      "source": [
        "df.drop(columns=['event_encode','occupation_encode'],inplace= True)"
      ],
      "execution_count": 110,
      "outputs": []
    },
    {
      "cell_type": "code",
      "metadata": {
        "id": "bdH0rVFuLTtP"
      },
      "source": [
        ""
      ],
      "execution_count": null,
      "outputs": []
    },
    {
      "cell_type": "markdown",
      "metadata": {
        "id": "spmZm8RyLPAT"
      },
      "source": [
        "## Remove published and recorded year due to following reasons:\n",
        "\n",
        "1. Very highly correlated to one another and closely to some other variables.\n",
        "\n",
        "2. Not much relationship with views."
      ]
    },
    {
      "cell_type": "code",
      "metadata": {
        "id": "sZU_IFr7LXNY"
      },
      "source": [
        "df.drop(columns=['published_year','recorded_year'],inplace= True)"
      ],
      "execution_count": 111,
      "outputs": []
    },
    {
      "cell_type": "markdown",
      "metadata": {
        "id": "8kfX-M9JLakN"
      },
      "source": [
        "# Let us visualize the most spoken about topics in the Ted talks :"
      ]
    },
    {
      "cell_type": "markdown",
      "metadata": {
        "id": "C54FxH8GM8J3"
      },
      "source": [
        "Dataset have very little nan values, we can drop them directly"
      ]
    },
    {
      "cell_type": "code",
      "metadata": {
        "id": "W0YAVXwFEpLv"
      },
      "source": [
        "# Dropping nan values from columns\n",
        "df.dropna(inplace=True)"
      ],
      "execution_count": 112,
      "outputs": []
    },
    {
      "cell_type": "code",
      "metadata": {
        "colab": {
          "base_uri": "https://localhost:8080/"
        },
        "id": "XEM3A4NXThjt",
        "outputId": "f320c2c1-7fac-4f5e-be69-2f445a2d595a"
      },
      "source": [
        "df.info()"
      ],
      "execution_count": 113,
      "outputs": [
        {
          "output_type": "stream",
          "text": [
            "<class 'pandas.core.frame.DataFrame'>\n",
            "Int64Index: 4005 entries, 0 to 4004\n",
            "Data columns (total 17 columns):\n",
            " #   Column                  Non-Null Count  Dtype  \n",
            "---  ------                  --------------  -----  \n",
            " 0   title                   4005 non-null   object \n",
            " 1   about_speakers          4005 non-null   object \n",
            " 2   views                   4005 non-null   float64\n",
            " 3   comments                4005 non-null   float64\n",
            " 4   duration                4005 non-null   float64\n",
            " 5   topics                  4005 non-null   object \n",
            " 6   related_talks           4005 non-null   object \n",
            " 7   description             4005 non-null   object \n",
            " 8   transcript              4005 non-null   object \n",
            " 9   diff_record_publish     4005 non-null   int16  \n",
            " 10  age_of_video            4005 non-null   int64  \n",
            " 11  published_day_encode    4005 non-null   float64\n",
            " 12  published_month_encode  4005 non-null   float64\n",
            " 13  recorded_day_encode     4005 non-null   float64\n",
            " 14  recorded_month_encode   4005 non-null   float64\n",
            " 15  count_available_lang    4005 non-null   int64  \n",
            " 16  speaker_1_encode        4005 non-null   float64\n",
            "dtypes: float64(8), int16(1), int64(2), object(6)\n",
            "memory usage: 539.7+ KB\n"
          ],
          "name": "stdout"
        }
      ]
    },
    {
      "cell_type": "code",
      "metadata": {
        "colab": {
          "base_uri": "https://localhost:8080/",
          "height": 306
        },
        "id": "cZ9Atb1BSak8",
        "outputId": "99c34f3a-7058-4ed2-e509-98deebc66c8b"
      },
      "source": [
        "df.describe()"
      ],
      "execution_count": 114,
      "outputs": [
        {
          "output_type": "execute_result",
          "data": {
            "text/html": [
              "<div>\n",
              "<style scoped>\n",
              "    .dataframe tbody tr th:only-of-type {\n",
              "        vertical-align: middle;\n",
              "    }\n",
              "\n",
              "    .dataframe tbody tr th {\n",
              "        vertical-align: top;\n",
              "    }\n",
              "\n",
              "    .dataframe thead th {\n",
              "        text-align: right;\n",
              "    }\n",
              "</style>\n",
              "<table border=\"1\" class=\"dataframe\">\n",
              "  <thead>\n",
              "    <tr style=\"text-align: right;\">\n",
              "      <th></th>\n",
              "      <th>views</th>\n",
              "      <th>comments</th>\n",
              "      <th>duration</th>\n",
              "      <th>diff_record_publish</th>\n",
              "      <th>age_of_video</th>\n",
              "      <th>published_day_encode</th>\n",
              "      <th>published_month_encode</th>\n",
              "      <th>recorded_day_encode</th>\n",
              "      <th>recorded_month_encode</th>\n",
              "      <th>count_available_lang</th>\n",
              "      <th>speaker_1_encode</th>\n",
              "    </tr>\n",
              "  </thead>\n",
              "  <tbody>\n",
              "    <tr>\n",
              "      <th>count</th>\n",
              "      <td>4005.000000</td>\n",
              "      <td>4005.000000</td>\n",
              "      <td>4005.000000</td>\n",
              "      <td>4005.000000</td>\n",
              "      <td>4005.000000</td>\n",
              "      <td>4005.000000</td>\n",
              "      <td>4005.000000</td>\n",
              "      <td>4005.000000</td>\n",
              "      <td>4005.000000</td>\n",
              "      <td>4005.000000</td>\n",
              "      <td>4005.000000</td>\n",
              "    </tr>\n",
              "    <tr>\n",
              "      <th>mean</th>\n",
              "      <td>0.033020</td>\n",
              "      <td>0.024291</td>\n",
              "      <td>0.171935</td>\n",
              "      <td>308.413983</td>\n",
              "      <td>6.403246</td>\n",
              "      <td>0.191815</td>\n",
              "      <td>0.085905</td>\n",
              "      <td>0.160855</td>\n",
              "      <td>0.102669</td>\n",
              "      <td>25.304120</td>\n",
              "      <td>0.000496</td>\n",
              "    </tr>\n",
              "    <tr>\n",
              "      <th>std</th>\n",
              "      <td>0.053053</td>\n",
              "      <td>0.038539</td>\n",
              "      <td>0.093676</td>\n",
              "      <td>587.146077</td>\n",
              "      <td>3.991930</td>\n",
              "      <td>0.031772</td>\n",
              "      <td>0.014596</td>\n",
              "      <td>0.042172</td>\n",
              "      <td>0.038524</td>\n",
              "      <td>9.038567</td>\n",
              "      <td>0.000880</td>\n",
              "    </tr>\n",
              "    <tr>\n",
              "      <th>min</th>\n",
              "      <td>0.000000</td>\n",
              "      <td>0.000000</td>\n",
              "      <td>0.000000</td>\n",
              "      <td>-578.000000</td>\n",
              "      <td>1.000000</td>\n",
              "      <td>0.010487</td>\n",
              "      <td>0.058926</td>\n",
              "      <td>0.047940</td>\n",
              "      <td>0.026717</td>\n",
              "      <td>1.000000</td>\n",
              "      <td>0.000250</td>\n",
              "    </tr>\n",
              "    <tr>\n",
              "      <th>25%</th>\n",
              "      <td>0.013559</td>\n",
              "      <td>0.006823</td>\n",
              "      <td>0.086225</td>\n",
              "      <td>42.000000</td>\n",
              "      <td>3.000000</td>\n",
              "      <td>0.181523</td>\n",
              "      <td>0.076155</td>\n",
              "      <td>0.116604</td>\n",
              "      <td>0.081648</td>\n",
              "      <td>20.000000</td>\n",
              "      <td>0.000250</td>\n",
              "    </tr>\n",
              "    <tr>\n",
              "      <th>50%</th>\n",
              "      <td>0.021145</td>\n",
              "      <td>0.014886</td>\n",
              "      <td>0.175557</td>\n",
              "      <td>104.000000</td>\n",
              "      <td>6.000000</td>\n",
              "      <td>0.197004</td>\n",
              "      <td>0.086642</td>\n",
              "      <td>0.175031</td>\n",
              "      <td>0.113858</td>\n",
              "      <td>25.000000</td>\n",
              "      <td>0.000250</td>\n",
              "    </tr>\n",
              "    <tr>\n",
              "      <th>75%</th>\n",
              "      <td>0.032791</td>\n",
              "      <td>0.028376</td>\n",
              "      <td>0.236665</td>\n",
              "      <td>229.000000</td>\n",
              "      <td>10.000000</td>\n",
              "      <td>0.207740</td>\n",
              "      <td>0.102871</td>\n",
              "      <td>0.181273</td>\n",
              "      <td>0.121348</td>\n",
              "      <td>31.000000</td>\n",
              "      <td>0.000499</td>\n",
              "    </tr>\n",
              "    <tr>\n",
              "      <th>max</th>\n",
              "      <td>1.000000</td>\n",
              "      <td>1.000000</td>\n",
              "      <td>1.000000</td>\n",
              "      <td>8804.000000</td>\n",
              "      <td>15.000000</td>\n",
              "      <td>0.213983</td>\n",
              "      <td>0.105618</td>\n",
              "      <td>0.212484</td>\n",
              "      <td>0.164544</td>\n",
              "      <td>73.000000</td>\n",
              "      <td>0.008489</td>\n",
              "    </tr>\n",
              "  </tbody>\n",
              "</table>\n",
              "</div>"
            ],
            "text/plain": [
              "             views     comments  ...  count_available_lang  speaker_1_encode\n",
              "count  4005.000000  4005.000000  ...           4005.000000       4005.000000\n",
              "mean      0.033020     0.024291  ...             25.304120          0.000496\n",
              "std       0.053053     0.038539  ...              9.038567          0.000880\n",
              "min       0.000000     0.000000  ...              1.000000          0.000250\n",
              "25%       0.013559     0.006823  ...             20.000000          0.000250\n",
              "50%       0.021145     0.014886  ...             25.000000          0.000250\n",
              "75%       0.032791     0.028376  ...             31.000000          0.000499\n",
              "max       1.000000     1.000000  ...             73.000000          0.008489\n",
              "\n",
              "[8 rows x 11 columns]"
            ]
          },
          "metadata": {
            "tags": []
          },
          "execution_count": 114
        }
      ]
    },
    {
      "cell_type": "markdown",
      "metadata": {
        "id": "zhf7E_dTS34U"
      },
      "source": [
        "## Numerical Features"
      ]
    },
    {
      "cell_type": "code",
      "metadata": {
        "colab": {
          "base_uri": "https://localhost:8080/",
          "height": 444
        },
        "id": "H6NmsRmcS2JU",
        "outputId": "e3f8d082-5944-46f1-e7c8-95a500ffd601"
      },
      "source": [
        "sns.pairplot(df[['comments', 'duration','views']],  size=2)\n",
        "plt.show()"
      ],
      "execution_count": 116,
      "outputs": [
        {
          "output_type": "display_data",
          "data": {
            "image/png": "[encoded data removed]",
            "text/plain": [
              "<Figure size 432x432 with 12 Axes>"
            ]
          },
          "metadata": {
            "tags": [],
            "needs_background": "light"
          }
        }
      ]
    },
    {
      "cell_type": "code",
      "metadata": {
        "colab": {
          "base_uri": "https://localhost:8080/",
          "height": 680
        },
        "id": "h-rkrqIA9Khj",
        "outputId": "9a0a05c9-e063-48af-c8eb-13d08560d824"
      },
      "source": [
        "fig, axes = plt.subplots(2,2, figsize=(18, 10))\n",
        "\n",
        "fig.suptitle('Boxplots')\n",
        "\n",
        "sns.boxplot(ax=axes[0, 0], data=df, y='views')\n",
        "sns.boxplot(ax=axes[0, 1], data=df,  y='duration')\n",
        "sns.boxplot(ax=axes[1,1], data=df, y='comments')"
      ],
      "execution_count": 117,
      "outputs": [
        {
          "output_type": "execute_result",
          "data": {
            "text/plain": [
              "<matplotlib.axes._subplots.AxesSubplot at 0x7fad93719050>"
            ]
          },
          "metadata": {
            "tags": []
          },
          "execution_count": 117
        },
        {
          "output_type": "display_data",
          "data": {
            "image/png": "[encoded data removed]",
            "text/plain": [
              "<Figure size 1296x720 with 4 Axes>"
            ]
          },
          "metadata": {
            "tags": [],
            "needs_background": "light"
          }
        }
      ]
    },
    {
      "cell_type": "markdown",
      "metadata": {
        "id": "ToIzkHe7bDJZ"
      },
      "source": [
        "Many outliers are there"
      ]
    },
    {
      "cell_type": "markdown",
      "metadata": {
        "id": "Xwtntw9cByAu"
      },
      "source": [
        "## Distibution of variables"
      ]
    },
    {
      "cell_type": "code",
      "metadata": {
        "colab": {
          "base_uri": "https://localhost:8080/",
          "height": 350
        },
        "id": "IVvd7zRI2COz",
        "outputId": "26ac7b0e-61e9-43a6-ee77-c25552bf8970"
      },
      "source": [
        "fig, ax = plt.subplots(figsize=(16, 5))\n",
        "sns.distplot(df['views'], ax=ax)"
      ],
      "execution_count": 118,
      "outputs": [
        {
          "output_type": "execute_result",
          "data": {
            "text/plain": [
              "<matplotlib.axes._subplots.AxesSubplot at 0x7fad936b1990>"
            ]
          },
          "metadata": {
            "tags": []
          },
          "execution_count": 118
        },
        {
          "output_type": "display_data",
          "data": {
            "image/png": "[encoded data removed]",
            "text/plain": [
              "<Figure size 1152x360 with 1 Axes>"
            ]
          },
          "metadata": {
            "tags": [],
            "needs_background": "light"
          }
        }
      ]
    },
    {
      "cell_type": "markdown",
      "metadata": {
        "id": "Jv1exZbBJywy"
      },
      "source": [
        "Right Skewed "
      ]
    },
    {
      "cell_type": "code",
      "metadata": {
        "colab": {
          "base_uri": "https://localhost:8080/",
          "height": 568
        },
        "id": "rc3y7z7Bj05O",
        "outputId": "bfd90dff-91e3-4e65-da91-590654ffa2a8"
      },
      "source": [
        "df.head()"
      ],
      "execution_count": 127,
      "outputs": [
        {
          "output_type": "execute_result",
          "data": {
            "text/html": [
              "<div>\n",
              "<style scoped>\n",
              "    .dataframe tbody tr th:only-of-type {\n",
              "        vertical-align: middle;\n",
              "    }\n",
              "\n",
              "    .dataframe tbody tr th {\n",
              "        vertical-align: top;\n",
              "    }\n",
              "\n",
              "    .dataframe thead th {\n",
              "        text-align: right;\n",
              "    }\n",
              "</style>\n",
              "<table border=\"1\" class=\"dataframe\">\n",
              "  <thead>\n",
              "    <tr style=\"text-align: right;\">\n",
              "      <th></th>\n",
              "      <th>title</th>\n",
              "      <th>about_speakers</th>\n",
              "      <th>views</th>\n",
              "      <th>comments</th>\n",
              "      <th>duration</th>\n",
              "      <th>topics</th>\n",
              "      <th>related_talks</th>\n",
              "      <th>description</th>\n",
              "      <th>transcript</th>\n",
              "      <th>diff_record_publish</th>\n",
              "      <th>age_of_video</th>\n",
              "      <th>published_day_encode</th>\n",
              "      <th>published_month_encode</th>\n",
              "      <th>recorded_day_encode</th>\n",
              "      <th>recorded_month_encode</th>\n",
              "      <th>count_available_lang</th>\n",
              "      <th>speaker_1_encode</th>\n",
              "    </tr>\n",
              "  </thead>\n",
              "  <tbody>\n",
              "    <tr>\n",
              "      <th>0</th>\n",
              "      <td>Averting the climate crisis</td>\n",
              "      <td>{0: 'Nobel Laureate Al Gore focused the world’...</td>\n",
              "      <td>0</td>\n",
              "      <td>0.042177</td>\n",
              "      <td>0.237442</td>\n",
              "      <td>['alternative energy', 'cars', 'climate change...</td>\n",
              "      <td>{243: 'New thinking on the climate crisis', 54...</td>\n",
              "      <td>With the same humor and humanity he exuded in ...</td>\n",
              "      <td>Thank you so much, Chris. And it's truly a gre...</td>\n",
              "      <td>122</td>\n",
              "      <td>15</td>\n",
              "      <td>0.213983</td>\n",
              "      <td>0.077403</td>\n",
              "      <td>0.116604</td>\n",
              "      <td>0.164544</td>\n",
              "      <td>43</td>\n",
              "      <td>0.000999</td>\n",
              "    </tr>\n",
              "    <tr>\n",
              "      <th>1</th>\n",
              "      <td>The best stats you've ever seen</td>\n",
              "      <td>{0: 'In Hans Rosling’s hands, data sings. Glob...</td>\n",
              "      <td>0</td>\n",
              "      <td>0.097379</td>\n",
              "      <td>0.292595</td>\n",
              "      <td>['Africa', 'Asia', 'Google', 'demo', 'economic...</td>\n",
              "      <td>{2056: \"Own your body's data\", 2296: 'A visual...</td>\n",
              "      <td>You've never seen data presented like this. Wi...</td>\n",
              "      <td>About 10 years ago, I took on the task to teac...</td>\n",
              "      <td>125</td>\n",
              "      <td>15</td>\n",
              "      <td>0.213983</td>\n",
              "      <td>0.077403</td>\n",
              "      <td>0.181273</td>\n",
              "      <td>0.164544</td>\n",
              "      <td>49</td>\n",
              "      <td>0.002497</td>\n",
              "    </tr>\n",
              "    <tr>\n",
              "      <th>2</th>\n",
              "      <td>Simplicity sells</td>\n",
              "      <td>{0: 'David Pogue is the personal technology co...</td>\n",
              "      <td>0</td>\n",
              "      <td>0.019228</td>\n",
              "      <td>0.317452</td>\n",
              "      <td>['computers', 'entertainment', 'interface desi...</td>\n",
              "      <td>{1725: '10 top time-saving tech tips', 2274: '...</td>\n",
              "      <td>New York Times columnist David Pogue takes aim...</td>\n",
              "      <td>(Music: \"The Sound of Silence,\" Simon &amp; Garfun...</td>\n",
              "      <td>123</td>\n",
              "      <td>15</td>\n",
              "      <td>0.213983</td>\n",
              "      <td>0.077403</td>\n",
              "      <td>0.113858</td>\n",
              "      <td>0.164544</td>\n",
              "      <td>26</td>\n",
              "      <td>0.000999</td>\n",
              "    </tr>\n",
              "    <tr>\n",
              "      <th>3</th>\n",
              "      <td>Greening the ghetto</td>\n",
              "      <td>{0: 'Majora Carter redefined the field of envi...</td>\n",
              "      <td>0</td>\n",
              "      <td>0.033959</td>\n",
              "      <td>0.273433</td>\n",
              "      <td>['MacArthur grant', 'activism', 'business', 'c...</td>\n",
              "      <td>{1041: '3 stories of local eco-entrepreneurshi...</td>\n",
              "      <td>In an emotionally charged talk, MacArthur-winn...</td>\n",
              "      <td>If you're here today — and I'm very happy that...</td>\n",
              "      <td>121</td>\n",
              "      <td>15</td>\n",
              "      <td>0.213983</td>\n",
              "      <td>0.077403</td>\n",
              "      <td>0.047940</td>\n",
              "      <td>0.164544</td>\n",
              "      <td>35</td>\n",
              "      <td>0.000499</td>\n",
              "    </tr>\n",
              "    <tr>\n",
              "      <th>4</th>\n",
              "      <td>Do schools kill creativity?</td>\n",
              "      <td>{0: \"Creativity expert Sir Ken Robinson challe...</td>\n",
              "      <td>1</td>\n",
              "      <td>0.764615</td>\n",
              "      <td>0.285862</td>\n",
              "      <td>['children', 'creativity', 'culture', 'dance',...</td>\n",
              "      <td>{865: 'Bring on the learning revolution!', 173...</td>\n",
              "      <td>Sir Ken Robinson makes an entertaining and pro...</td>\n",
              "      <td>Good morning. How are you? (Audience) Good. It...</td>\n",
              "      <td>122</td>\n",
              "      <td>15</td>\n",
              "      <td>0.213983</td>\n",
              "      <td>0.077403</td>\n",
              "      <td>0.116604</td>\n",
              "      <td>0.164544</td>\n",
              "      <td>62</td>\n",
              "      <td>0.000749</td>\n",
              "    </tr>\n",
              "  </tbody>\n",
              "</table>\n",
              "</div>"
            ],
            "text/plain": [
              "                             title  ... speaker_1_encode\n",
              "0      Averting the climate crisis  ...         0.000999\n",
              "1  The best stats you've ever seen  ...         0.002497\n",
              "2                 Simplicity sells  ...         0.000999\n",
              "3              Greening the ghetto  ...         0.000499\n",
              "4      Do schools kill creativity?  ...         0.000749\n",
              "\n",
              "[5 rows x 17 columns]"
            ]
          },
          "metadata": {
            "tags": []
          },
          "execution_count": 127
        }
      ]
    },
    {
      "cell_type": "code",
      "metadata": {
        "colab": {
          "base_uri": "https://localhost:8080/"
        },
        "id": "YkQsTdjujofP",
        "outputId": "e4ed3fbd-196c-4b3b-aec9-7a29a805c921"
      },
      "source": [
        "df['views']"
      ],
      "execution_count": 126,
      "outputs": [
        {
          "output_type": "execute_result",
          "data": {
            "text/plain": [
              "0       0\n",
              "1       0\n",
              "2       0\n",
              "3       0\n",
              "4       1\n",
              "       ..\n",
              "4000    0\n",
              "4001    0\n",
              "4002    0\n",
              "4003    0\n",
              "4004    0\n",
              "Name: views, Length: 4005, dtype: int64"
            ]
          },
          "metadata": {
            "tags": []
          },
          "execution_count": 126
        }
      ]
    },
    {
      "cell_type": "code",
      "metadata": {
        "colab": {
          "base_uri": "https://localhost:8080/",
          "height": 350
        },
        "id": "PhoSO0JAVjPW",
        "outputId": "7a54e771-2523-461c-f96f-95b68a703d64"
      },
      "source": [
        "sns.boxplot(np.log(df['views']))"
      ],
      "execution_count": null,
      "outputs": [
        {
          "output_type": "execute_result",
          "data": {
            "text/plain": [
              "<matplotlib.axes._subplots.AxesSubplot at 0x7f6ac16815d0>"
            ]
          },
          "metadata": {
            "tags": []
          },
          "execution_count": 16
        },
        {
          "output_type": "display_data",
          "data": {
            "image/png": "[encoded data removed]",
            "text/plain": [
              "<Figure size 1440x360 with 1 Axes>"
            ]
          },
          "metadata": {
            "tags": [],
            "needs_background": "light"
          }
        }
      ]
    },
    {
      "cell_type": "markdown",
      "metadata": {
        "id": "RRl2pTrpVaYY"
      },
      "source": [
        "Target variable is now in perfect normal shape"
      ]
    },
    {
      "cell_type": "code",
      "metadata": {
        "colab": {
          "base_uri": "https://localhost:8080/",
          "height": 350
        },
        "id": "1tDOtmQADTXU",
        "outputId": "78616793-0337-4152-b9ca-26f03cba0fba"
      },
      "source": [
        "fig, ax = plt.subplots(figsize=(16, 5))\n",
        "sns.distplot(df['comments'],ax=ax)"
      ],
      "execution_count": null,
      "outputs": [
        {
          "output_type": "execute_result",
          "data": {
            "text/plain": [
              "<matplotlib.axes._subplots.AxesSubplot at 0x7f6ac14e2f90>"
            ]
          },
          "metadata": {
            "tags": []
          },
          "execution_count": 17
        },
        {
          "output_type": "display_data",
          "data": {
            "image/png": "[encoded data removed]",
            "text/plain": [
              "<Figure size 1152x360 with 1 Axes>"
            ]
          },
          "metadata": {
            "tags": [],
            "needs_background": "light"
          }
        }
      ]
    },
    {
      "cell_type": "markdown",
      "metadata": {
        "id": "u-fU8FNsMg44"
      },
      "source": [
        "Right skewed"
      ]
    },
    {
      "cell_type": "code",
      "metadata": {
        "colab": {
          "base_uri": "https://localhost:8080/",
          "height": 350
        },
        "id": "QcfnnIKADbLg",
        "outputId": "c9bcbe40-38b3-4a58-ad58-d9faee82589a"
      },
      "source": [
        "fig, ax = plt.subplots(figsize=(16, 5))\n",
        "sns.distplot(df['duration'],ax=ax)"
      ],
      "execution_count": null,
      "outputs": [
        {
          "output_type": "execute_result",
          "data": {
            "text/plain": [
              "<matplotlib.axes._subplots.AxesSubplot at 0x7f6ac13f3890>"
            ]
          },
          "metadata": {
            "tags": []
          },
          "execution_count": 18
        },
        {
          "output_type": "display_data",
          "data": {
            "image/png": "[encoded data removed]",
            "text/plain": [
              "<Figure size 1152x360 with 1 Axes>"
            ]
          },
          "metadata": {
            "tags": [],
            "needs_background": "light"
          }
        }
      ]
    },
    {
      "cell_type": "markdown",
      "metadata": {
        "id": "Pi7NiXrKbRbh"
      },
      "source": [
        "## Counting number of outliers in a column"
      ]
    },
    {
      "cell_type": "code",
      "metadata": {
        "colab": {
          "base_uri": "https://localhost:8080/"
        },
        "id": "tS9n9NvubCwh",
        "outputId": "df218c98-0b8c-49dd-c271-c0e2c536c3c8"
      },
      "source": [
        "Q1 = df.quantile(0.25)\n",
        "Q3 = df.quantile(0.75)\n",
        "IQR = Q3 - Q1\n",
        "\n",
        "\n",
        "((df < (Q1 - 1.5 * IQR)) | (df > (Q3 + 1.5 * IQR))).sum()"
      ],
      "execution_count": null,
      "outputs": [
        {
          "output_type": "execute_result",
          "data": {
            "text/plain": [
              "about_speakers      0\n",
              "all_speakers        0\n",
              "available_lang      0\n",
              "comments          261\n",
              "description         0\n",
              "duration           35\n",
              "event               0\n",
              "native_lang         0\n",
              "occupations         0\n",
              "published_date      0\n",
              "recorded_date       0\n",
              "related_talks       0\n",
              "speaker_1           0\n",
              "title               0\n",
              "topics              0\n",
              "transcript          0\n",
              "url                 0\n",
              "views             340\n",
              "dtype: int64"
            ]
          },
          "metadata": {
            "tags": []
          },
          "execution_count": 88
        }
      ]
    },
    {
      "cell_type": "markdown",
      "metadata": {
        "id": "fnjf3a58T59s"
      },
      "source": [
        "1. Number of languages\n",
        "2. Time taken to publish the video.\n",
        "3. Number of speakers\n",
        "4. Number of Occupations\n",
        "5. How many talks that speaker has given prior to this\n",
        "6. cluster label\n",
        "7. From topic column we can find out top 10 topics and can use one hat encoding \n",
        "8. We can use point number 8 for speaker column as well.\n",
        "9. Planning to cluster transcript+related talks, then we could built different models.\n"
      ]
    },
    {
      "cell_type": "code",
      "metadata": {
        "id": "VX85fQ6W5dHG"
      },
      "source": [
        "df.head()"
      ],
      "execution_count": null,
      "outputs": []
    },
    {
      "cell_type": "markdown",
      "metadata": {
        "id": "hTGDJTAlW6SL"
      },
      "source": [
        "## challenge-1\n",
        "###How to induce impact of speaker columns on prediction"
      ]
    },
    {
      "cell_type": "code",
      "metadata": {
        "colab": {
          "base_uri": "https://localhost:8080/"
        },
        "id": "07CAXWtaWutb",
        "outputId": "50967bca-7045-4165-f554-dea2dd91f62f"
      },
      "source": [
        "df['speaker_1'].value_counts()"
      ],
      "execution_count": null,
      "outputs": [
        {
          "output_type": "execute_result",
          "data": {
            "text/plain": [
              "Alex Gendler        34\n",
              "Iseult Gillespie    19\n",
              "Emma Bryce          12\n",
              "Daniel Finkel       11\n",
              "Alex Rosenthal      10\n",
              "                    ..\n",
              "Trevor Timm          1\n",
              "Sophia Wallace       1\n",
              "Kevin Slavin         1\n",
              "John Koenig          1\n",
              " Teitur              1\n",
              "Name: speaker_1, Length: 3274, dtype: int64"
            ]
          },
          "metadata": {
            "tags": []
          },
          "execution_count": 18
        }
      ]
    },
    {
      "cell_type": "code",
      "metadata": {
        "colab": {
          "base_uri": "https://localhost:8080/",
          "height": 35
        },
        "id": "QRMFUhmsWcHF",
        "outputId": "c429fb68-0367-435e-a899-a623927d9da6"
      },
      "source": [
        "df['occupations'][4]"
      ],
      "execution_count": null,
      "outputs": [
        {
          "output_type": "execute_result",
          "data": {
            "application/vnd.google.colaboratory.intrinsic+json": {
              "type": "string"
            },
            "text/plain": [
              "\"{0: ['author', 'educator']}\""
            ]
          },
          "metadata": {
            "tags": []
          },
          "execution_count": 16
        }
      ]
    },
    {
      "cell_type": "code",
      "metadata": {
        "colab": {
          "base_uri": "https://localhost:8080/",
          "height": 52
        },
        "id": "kpN-5XftTNA8",
        "outputId": "0027504f-d82e-40eb-ea25-3827696c206f"
      },
      "source": [
        "df['about_speakers'][4]"
      ],
      "execution_count": null,
      "outputs": [
        {
          "output_type": "execute_result",
          "data": {
            "application/vnd.google.colaboratory.intrinsic+json": {
              "type": "string"
            },
            "text/plain": [
              "'{0: \"Creativity expert Sir Ken Robinson challenges the way we\\'re educating our children. He champions a radical rethink of our school systems, to cultivate creativity and acknowledge multiple types of intelligence. \"}'"
            ]
          },
          "metadata": {
            "tags": []
          },
          "execution_count": 13
        }
      ]
    },
    {
      "cell_type": "code",
      "metadata": {
        "colab": {
          "base_uri": "https://localhost:8080/",
          "height": 35
        },
        "id": "KY2OOa46TVwk",
        "outputId": "aa235dfc-d63f-4927-c9ea-a48abed3ce8c"
      },
      "source": [
        "df['all_speakers'][10]"
      ],
      "execution_count": null,
      "outputs": [
        {
          "output_type": "execute_result",
          "data": {
            "application/vnd.google.colaboratory.intrinsic+json": {
              "type": "string"
            },
            "text/plain": [
              "\"{0: 'Larry Brilliant'}\""
            ]
          },
          "metadata": {
            "tags": []
          },
          "execution_count": 15
        }
      ]
    },
    {
      "cell_type": "code",
      "metadata": {
        "colab": {
          "base_uri": "https://localhost:8080/",
          "height": 35
        },
        "id": "kD3oGZbA5qY2",
        "outputId": "68278725-d2b2-4855-ad4f-b1422ba71403"
      },
      "source": [
        "df['topics'][4]"
      ],
      "execution_count": null,
      "outputs": [
        {
          "output_type": "execute_result",
          "data": {
            "application/vnd.google.colaboratory.intrinsic+json": {
              "type": "string"
            },
            "text/plain": [
              "\"['children', 'creativity', 'culture', 'dance', 'education', 'parenting', 'teaching']\""
            ]
          },
          "metadata": {
            "tags": []
          },
          "execution_count": 6
        }
      ]
    },
    {
      "cell_type": "code",
      "metadata": {
        "colab": {
          "base_uri": "https://localhost:8080/",
          "height": 52
        },
        "id": "OHcZoq8bQjxW",
        "outputId": "a8b5139d-588c-4f91-9b38-7863a0b1632e"
      },
      "source": [
        "df['related_talks'][4]"
      ],
      "execution_count": null,
      "outputs": [
        {
          "output_type": "execute_result",
          "data": {
            "application/vnd.google.colaboratory.intrinsic+json": {
              "type": "string"
            },
            "text/plain": [
              "'{865: \\'Bring on the learning revolution!\\', 1738: \"How to escape education\\'s death valley\", 2276: \\'How to fix a broken school? Lead fearlessly, love hard\\', 2182: \\'How to run a company with (almost) no rules\\', 2341: \"Why some of us don\\'t have one true calling\", 9048: \\'The search for \"aha!\" moments\\'}'"
            ]
          },
          "metadata": {
            "tags": []
          },
          "execution_count": 7
        }
      ]
    },
    {
      "cell_type": "code",
      "metadata": {
        "colab": {
          "base_uri": "https://localhost:8080/",
          "height": 35
        },
        "id": "2z5JupjJQv6z",
        "outputId": "ece47261-d0b6-4ad4-ca46-2a57c33eff80"
      },
      "source": [
        "df['description'][4]"
      ],
      "execution_count": null,
      "outputs": [
        {
          "output_type": "execute_result",
          "data": {
            "application/vnd.google.colaboratory.intrinsic+json": {
              "type": "string"
            },
            "text/plain": [
              "'Sir Ken Robinson makes an entertaining and profoundly moving case for creating an education system that nurtures (rather than undermines) creativity.'"
            ]
          },
          "metadata": {
            "tags": []
          },
          "execution_count": 8
        }
      ]
    },
    {
      "cell_type": "code",
      "metadata": {
        "colab": {
          "base_uri": "https://localhost:8080/"
        },
        "id": "ogANJVh3Q77O",
        "outputId": "3302bc4d-6d71-4bfe-91e0-3e0e3272df08"
      },
      "source": [
        "len(df['transcript'][4])"
      ],
      "execution_count": null,
      "outputs": [
        {
          "output_type": "execute_result",
          "data": {
            "text/plain": [
              "17558"
            ]
          },
          "metadata": {
            "tags": []
          },
          "execution_count": 41
        }
      ]
    },
    {
      "cell_type": "code",
      "metadata": {
        "id": "lPbmwFbX13bF"
      },
      "source": [
        ""
      ],
      "execution_count": null,
      "outputs": []
    }
  ]
}